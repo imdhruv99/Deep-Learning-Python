{
 "cells": [
  {
   "cell_type": "markdown",
   "metadata": {},
   "source": [
    "### Image Recognition using CNN\n",
    "\n",
    "- Used Dataset of Cats and Dogs"
   ]
  },
  {
   "cell_type": "markdown",
   "metadata": {},
   "source": [
    "###### Importing Libraries"
   ]
  },
  {
   "cell_type": "code",
   "execution_count": 1,
   "metadata": {},
   "outputs": [],
   "source": [
    "import numpy as np\n",
    "import pandas as pd\n",
    "import matplotlib as mpl\n",
    "import matplotlib.pyplot as plt\n",
    "%matplotlib inline"
   ]
  },
  {
   "cell_type": "code",
   "execution_count": 2,
   "metadata": {},
   "outputs": [],
   "source": [
    "import tensorflow as tf\n",
    "from tensorflow import keras"
   ]
  },
  {
   "cell_type": "markdown",
   "metadata": {},
   "source": [
    "###### Dataset Directories"
   ]
  },
  {
   "cell_type": "code",
   "execution_count": 3,
   "metadata": {},
   "outputs": [],
   "source": [
    "trainDir = 'datasets/train/'\n",
    "testDir = 'datasets/test/'\n",
    "valDir = 'datasets/validation/'"
   ]
  },
  {
   "cell_type": "markdown",
   "metadata": {},
   "source": [
    "###### Data Preprocessing\n",
    "\n",
    "- Reading the Picture.\n",
    "- Decode JPEG to RGB Pixels.\n",
    "- Converting into tensor.\n",
    "- Rescaling the pixel values to the [0, 1] interval."
   ]
  },
  {
   "cell_type": "code",
   "execution_count": 4,
   "metadata": {},
   "outputs": [],
   "source": [
    "from tensorflow.keras.preprocessing.image import ImageDataGenerator"
   ]
  },
  {
   "cell_type": "code",
   "execution_count": 14,
   "metadata": {},
   "outputs": [
    {
     "name": "stdout",
     "output_type": "stream",
     "text": [
      "Found 2000 images belonging to 2 classes.\n",
      "Found 1000 images belonging to 2 classes.\n"
     ]
    }
   ],
   "source": [
    "# Generating batches of tensors using image data\n",
    "\n",
    "trainDataGen = ImageDataGenerator(rescale=1./255) \n",
    "testDataGen = ImageDataGenerator(rescale=1./255)\n",
    "\n",
    "# Train Data Generation\n",
    "trainGenerator = trainDataGen.flow_from_directory(\n",
    "        trainDir,\n",
    "        target_size=(150, 150), # size of images, that we want [Standardizing images]\n",
    "        batch_size=20,\n",
    "        class_mode='binary')\n",
    "\n",
    "# Test Data Generation\n",
    "valGenerator = testDataGen.flow_from_directory(\n",
    "        valDir,\n",
    "        target_size=(150, 150), # size of images, that we want [Standardizing images]\n",
    "        batch_size=20,\n",
    "        class_mode='binary')"
   ]
  },
  {
   "cell_type": "code",
   "execution_count": 7,
   "metadata": {},
   "outputs": [],
   "source": [
    "from tensorflow.keras import models\n",
    "from tensorflow.keras import layers"
   ]
  },
  {
   "cell_type": "markdown",
   "metadata": {},
   "source": [
    "###### Model Structure"
   ]
  },
  {
   "cell_type": "code",
   "execution_count": 8,
   "metadata": {},
   "outputs": [],
   "source": [
    "model = models.Sequential()\n",
    "\n",
    "# 5 Convolution layers with maxpooling\n",
    "model.add(layers.Conv2D(32, (3, 3), activation = 'relu', input_shape=(150, 150, 3)))\n",
    "model.add(layers.MaxPooling2D((2, 2)))\n",
    "\n",
    "model.add(layers.Conv2D(64, (3, 3), activation = 'relu'))\n",
    "model.add(layers.MaxPooling2D((2, 2)))\n",
    "\n",
    "model.add(layers.Conv2D(128, (3, 3), activation = 'relu'))\n",
    "model.add(layers.MaxPooling2D((2, 2)))\n",
    "\n",
    "model.add(layers.Conv2D(128, (3, 3), activation = 'relu'))\n",
    "model.add(layers.MaxPooling2D((2, 2)))\n",
    "\n",
    "model.add(layers.Conv2D(256, (3, 3), activation = 'relu'))\n",
    "model.add(layers.MaxPooling2D((2, 2)))\n",
    "\n",
    "# Flatten Layer\n",
    "model.add(layers.Flatten())\n",
    "\n",
    "# Dense Layer\n",
    "model.add(layers.Dense(512, activation='relu'))\n",
    "\n",
    "model.add(layers.Dense(512, activation='relu'))\n",
    "\n",
    "# Output Dense Layer\n",
    "model.add(layers.Dense(1, activation='relu'))"
   ]
  },
  {
   "cell_type": "code",
   "execution_count": 9,
   "metadata": {},
   "outputs": [
    {
     "name": "stdout",
     "output_type": "stream",
     "text": [
      "Model: \"sequential\"\n",
      "_________________________________________________________________\n",
      "Layer (type)                 Output Shape              Param #   \n",
      "=================================================================\n",
      "conv2d (Conv2D)              (None, 148, 148, 32)      896       \n",
      "_________________________________________________________________\n",
      "max_pooling2d (MaxPooling2D) (None, 74, 74, 32)        0         \n",
      "_________________________________________________________________\n",
      "conv2d_1 (Conv2D)            (None, 72, 72, 64)        18496     \n",
      "_________________________________________________________________\n",
      "max_pooling2d_1 (MaxPooling2 (None, 36, 36, 64)        0         \n",
      "_________________________________________________________________\n",
      "conv2d_2 (Conv2D)            (None, 34, 34, 128)       73856     \n",
      "_________________________________________________________________\n",
      "max_pooling2d_2 (MaxPooling2 (None, 17, 17, 128)       0         \n",
      "_________________________________________________________________\n",
      "conv2d_3 (Conv2D)            (None, 15, 15, 128)       147584    \n",
      "_________________________________________________________________\n",
      "max_pooling2d_3 (MaxPooling2 (None, 7, 7, 128)         0         \n",
      "_________________________________________________________________\n",
      "conv2d_4 (Conv2D)            (None, 5, 5, 256)         295168    \n",
      "_________________________________________________________________\n",
      "max_pooling2d_4 (MaxPooling2 (None, 2, 2, 256)         0         \n",
      "_________________________________________________________________\n",
      "flatten (Flatten)            (None, 1024)              0         \n",
      "_________________________________________________________________\n",
      "dense (Dense)                (None, 512)               524800    \n",
      "_________________________________________________________________\n",
      "dense_1 (Dense)              (None, 512)               262656    \n",
      "_________________________________________________________________\n",
      "dense_2 (Dense)              (None, 1)                 513       \n",
      "=================================================================\n",
      "Total params: 1,323,969\n",
      "Trainable params: 1,323,969\n",
      "Non-trainable params: 0\n",
      "_________________________________________________________________\n"
     ]
    }
   ],
   "source": [
    "model.summary()"
   ]
  },
  {
   "cell_type": "markdown",
   "metadata": {},
   "source": [
    "###### Training Model"
   ]
  },
  {
   "cell_type": "code",
   "execution_count": 10,
   "metadata": {},
   "outputs": [],
   "source": [
    "from tensorflow.keras import optimizers"
   ]
  },
  {
   "cell_type": "code",
   "execution_count": 12,
   "metadata": {},
   "outputs": [],
   "source": [
    "model.compile(loss='binary_crossentropy', optimizer=optimizers.RMSprop(lr=0.004), metrics=['acc'])"
   ]
  },
  {
   "cell_type": "code",
   "execution_count": 15,
   "metadata": {},
   "outputs": [
    {
     "name": "stderr",
     "output_type": "stream",
     "text": [
      "D:\\Programming\\Python\\Anaconda\\lib\\site-packages\\tensorflow\\python\\keras\\engine\\training.py:1844: UserWarning: `Model.fit_generator` is deprecated and will be removed in a future version. Please use `Model.fit`, which supports generators.\n",
      "  warnings.warn('`Model.fit_generator` is deprecated and '\n"
     ]
    },
    {
     "name": "stdout",
     "output_type": "stream",
     "text": [
      "Epoch 1/20\n",
      "100/100 [==============================] - 115s 1s/step - loss: 7.6974 - acc: 0.5010 - val_loss: 7.7125 - val_acc: 0.5000\n",
      "Epoch 2/20\n",
      "100/100 [==============================] - 89s 888ms/step - loss: 7.8902 - acc: 0.4885 - val_loss: 7.7125 - val_acc: 0.5000\n",
      "Epoch 3/20\n",
      "100/100 [==============================] - 88s 883ms/step - loss: 7.4552 - acc: 0.5167 - val_loss: 7.7125 - val_acc: 0.5000\n",
      "Epoch 4/20\n",
      "100/100 [==============================] - 89s 889ms/step - loss: 7.6461 - acc: 0.5043 - val_loss: 7.7125 - val_acc: 0.5000\n",
      "Epoch 5/20\n",
      "100/100 [==============================] - 89s 895ms/step - loss: 7.7884 - acc: 0.4951 - val_loss: 7.7125 - val_acc: 0.5000\n",
      "Epoch 6/20\n",
      "100/100 [==============================] - 88s 885ms/step - loss: 7.8063 - acc: 0.4939 - val_loss: 7.7125 - val_acc: 0.5000\n",
      "Epoch 7/20\n",
      "100/100 [==============================] - 88s 881ms/step - loss: 8.0049 - acc: 0.4810 - val_loss: 7.7125 - val_acc: 0.5000\n",
      "Epoch 8/20\n",
      "100/100 [==============================] - 88s 877ms/step - loss: 8.0905 - acc: 0.4755 - val_loss: 7.7125 - val_acc: 0.5000\n",
      "Epoch 9/20\n",
      "100/100 [==============================] - 88s 884ms/step - loss: 7.7439 - acc: 0.4980 - val_loss: 7.7125 - val_acc: 0.5000\n",
      "Epoch 10/20\n",
      "100/100 [==============================] - 88s 878ms/step - loss: 7.6818 - acc: 0.5020 - val_loss: 7.7125 - val_acc: 0.5000\n",
      "Epoch 11/20\n",
      "100/100 [==============================] - 88s 881ms/step - loss: 7.8319 - acc: 0.4923 - val_loss: 7.7125 - val_acc: 0.5000\n",
      "Epoch 12/20\n",
      "100/100 [==============================] - 90s 895ms/step - loss: 7.9022 - acc: 0.4877 - val_loss: 7.7125 - val_acc: 0.5000\n",
      "Epoch 13/20\n",
      "100/100 [==============================] - 91s 907ms/step - loss: 7.6594 - acc: 0.5034 - val_loss: 7.7125 - val_acc: 0.5000\n",
      "Epoch 14/20\n",
      "100/100 [==============================] - 89s 887ms/step - loss: 7.7381 - acc: 0.4983 - val_loss: 7.7125 - val_acc: 0.5000\n",
      "Epoch 15/20\n",
      "100/100 [==============================] - 89s 888ms/step - loss: 7.6699 - acc: 0.5028 - val_loss: 7.7125 - val_acc: 0.5000\n",
      "Epoch 16/20\n",
      "100/100 [==============================] - 89s 890ms/step - loss: 7.6179 - acc: 0.5061 - val_loss: 7.7125 - val_acc: 0.5000\n",
      "Epoch 17/20\n",
      "100/100 [==============================] - 89s 890ms/step - loss: 7.7599 - acc: 0.4969 - val_loss: 7.7125 - val_acc: 0.5000\n",
      "Epoch 18/20\n",
      "100/100 [==============================] - 88s 884ms/step - loss: 7.6275 - acc: 0.5055 - val_loss: 7.7125 - val_acc: 0.5000\n",
      "Epoch 19/20\n",
      "100/100 [==============================] - 89s 894ms/step - loss: 7.5842 - acc: 0.5083 - val_loss: 7.7125 - val_acc: 0.5000\n",
      "Epoch 20/20\n",
      "100/100 [==============================] - 89s 890ms/step - loss: 7.8004 - acc: 0.4943 - val_loss: 7.7125 - val_acc: 0.5000\n"
     ]
    }
   ],
   "source": [
    "history = model.fit_generator(trainGenerator, steps_per_epoch=100, epochs=20, validation_data=valGenerator, validation_steps=50)"
   ]
  },
  {
   "cell_type": "code",
   "execution_count": 16,
   "metadata": {},
   "outputs": [
    {
     "data": {
      "image/png": "[encoded data removed]",
      "text/plain": [
       "<Figure size 720x504 with 1 Axes>"
      ]
     },
     "metadata": {
      "needs_background": "light"
     },
     "output_type": "display_data"
    }
   ],
   "source": [
    "pd.DataFrame(history.history).plot(figsize = (10, 7))\n",
    "plt.grid(True)\n",
    "plt.gca().set_ylim(0, 1)\n",
    "plt.show()"
   ]
  },
  {
   "cell_type": "code",
   "execution_count": 17,
   "metadata": {},
   "outputs": [],
   "source": [
    "model.save('model.h5')"
   ]
  }
 ],
 "metadata": {
  "kernelspec": {
   "display_name": "Python 3",
   "language": "python",
   "name": "python3"
  },
  "language_info": {
   "codemirror_mode": {
    "name": "ipython",
    "version": 3
   },
   "file_extension": ".py",
   "mimetype": "text/x-python",
   "name": "python",
   "nbconvert_exporter": "python",
   "pygments_lexer": "ipython3",
   "version": "3.8.5"
  }
 },
 "nbformat": 4,
 "nbformat_minor": 4
}
