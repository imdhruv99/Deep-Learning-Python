{
 "cells": [
  {
   "cell_type": "markdown",
   "metadata": {},
   "source": [
    "## Convolution Neural Network\n",
    "\n",
    "- Identify fashion article name using images"
   ]
  },
  {
   "cell_type": "markdown",
   "metadata": {},
   "source": [
    "###### importing Libraries"
   ]
  },
  {
   "cell_type": "code",
   "execution_count": 1,
   "metadata": {},
   "outputs": [],
   "source": [
    "import numpy as np\n",
    "import pandas as pd\n",
    "import matplotlib as mpl\n",
    "import matplotlib.pyplot as plt"
   ]
  },
  {
   "cell_type": "code",
   "execution_count": 2,
   "metadata": {},
   "outputs": [],
   "source": [
    "import tensorflow as tf\n",
    "from tensorflow import keras"
   ]
  },
  {
   "cell_type": "code",
   "execution_count": 3,
   "metadata": {},
   "outputs": [],
   "source": [
    "%matplotlib inline"
   ]
  },
  {
   "cell_type": "code",
   "execution_count": 5,
   "metadata": {},
   "outputs": [],
   "source": [
    "df = keras.datasets.fashion_mnist\n",
    "(X_train_full, y_train_full),(X_test, y_test) = df.load_data()"
   ]
  },
  {
   "cell_type": "code",
   "execution_count": 6,
   "metadata": {},
   "outputs": [],
   "source": [
    "class_names = ['T-shirt/top', 'Trowser', 'Pullover', 'Dress', 'Coat',\n",
    "              'Sandal', 'Shirt', 'Sneaker', 'Bag', 'Ankle boot']"
   ]
  },
  {
   "cell_type": "markdown",
   "metadata": {},
   "source": [
    "###### Data Reshape\n",
    "\n",
    "- By default CNN needs 3 dimensional data, so we are adding one dimension into our grayscale images, which is for Channels"
   ]
  },
  {
   "cell_type": "code",
   "execution_count": 8,
   "metadata": {},
   "outputs": [],
   "source": [
    "X_train_full = X_train_full.reshape((60000, 28, 28, 1))\n",
    "X_test = X_test.reshape((10000, 28, 28, 1))"
   ]
  },
  {
   "cell_type": "markdown",
   "metadata": {},
   "source": [
    "###### Data Normalization"
   ]
  },
  {
   "cell_type": "code",
   "execution_count": 9,
   "metadata": {},
   "outputs": [],
   "source": [
    "X_train_n = X_train_full / 255.\n",
    "X_test_n = X_test / 255."
   ]
  },
  {
   "cell_type": "markdown",
   "metadata": {},
   "source": [
    "###### Splitting the Data into train/validation/test datasets"
   ]
  },
  {
   "cell_type": "code",
   "execution_count": 10,
   "metadata": {},
   "outputs": [],
   "source": [
    "X_valid, X_train = X_train_n[:5000], X_train_n[5000:]\n",
    "y_valid, y_train = y_train_full[:5000], y_train_full[5000:]\n",
    "X_test = X_test_n"
   ]
  },
  {
   "cell_type": "markdown",
   "metadata": {},
   "source": [
    "###### Creating Model Architecture"
   ]
  },
  {
   "cell_type": "code",
   "execution_count": 11,
   "metadata": {},
   "outputs": [],
   "source": [
    "np.random.seed(50)\n",
    "tf.random.set_seed(50)"
   ]
  },
  {
   "cell_type": "markdown",
   "metadata": {},
   "source": [
    "###### Model Sturcture"
   ]
  },
  {
   "cell_type": "code",
   "execution_count": 13,
   "metadata": {},
   "outputs": [],
   "source": [
    "model = keras.models.Sequential()\n",
    "\n",
    "# convolution layer\n",
    "model.add(keras.layers.Conv2D(filters = 32, kernel_size = (3,3), strides = 1, padding = 'valid', activation = 'relu', input_shape=(28, 28, 1)))\n",
    "model.add(keras.layers.MaxPooling2D((2,2)))\n",
    "\n",
    "# converting 3d matrix to 2d using flatten layer\n",
    "model.add(keras.layers.Flatten())\n",
    "\n",
    "# Deep Dense layers\n",
    "model.add(keras.layers.Dense(300, activation='relu'))\n",
    "model.add(keras.layers.Dense(100, activation='relu'))\n",
    "model.add(keras.layers.Dense(10, activation='softmax'))"
   ]
  },
  {
   "cell_type": "code",
   "execution_count": 14,
   "metadata": {},
   "outputs": [
    {
     "name": "stdout",
     "output_type": "stream",
     "text": [
      "Model: \"sequential\"\n",
      "_________________________________________________________________\n",
      "Layer (type)                 Output Shape              Param #   \n",
      "=================================================================\n",
      "conv2d (Conv2D)              (None, 26, 26, 32)        320       \n",
      "_________________________________________________________________\n",
      "max_pooling2d (MaxPooling2D) (None, 13, 13, 32)        0         \n",
      "_________________________________________________________________\n",
      "flatten (Flatten)            (None, 5408)              0         \n",
      "_________________________________________________________________\n",
      "dense (Dense)                (None, 300)               1622700   \n",
      "_________________________________________________________________\n",
      "dense_1 (Dense)              (None, 100)               30100     \n",
      "_________________________________________________________________\n",
      "dense_2 (Dense)              (None, 10)                1010      \n",
      "=================================================================\n",
      "Total params: 1,654,130\n",
      "Trainable params: 1,654,130\n",
      "Non-trainable params: 0\n",
      "_________________________________________________________________\n"
     ]
    }
   ],
   "source": [
    "model.summary()"
   ]
  },
  {
   "cell_type": "markdown",
   "metadata": {},
   "source": [
    "###### Compiling Model"
   ]
  },
  {
   "cell_type": "code",
   "execution_count": 15,
   "metadata": {},
   "outputs": [],
   "source": [
    "model.compile(loss='sparse_categorical_crossentropy', optimizer='sgd', metrics=['accuracy'])"
   ]
  },
  {
   "cell_type": "code",
   "execution_count": 16,
   "metadata": {},
   "outputs": [
    {
     "name": "stdout",
     "output_type": "stream",
     "text": [
      "Epoch 1/20\n",
      "860/860 [==============================] - 38s 41ms/step - loss: 1.2951 - accuracy: 0.5880 - val_loss: 0.6049 - val_accuracy: 0.7730\n",
      "Epoch 2/20\n",
      "860/860 [==============================] - 35s 41ms/step - loss: 0.5516 - accuracy: 0.7990 - val_loss: 0.5242 - val_accuracy: 0.8054\n",
      "Epoch 3/20\n",
      "860/860 [==============================] - 36s 41ms/step - loss: 0.4773 - accuracy: 0.8283 - val_loss: 0.4865 - val_accuracy: 0.8172\n",
      "Epoch 4/20\n",
      "860/860 [==============================] - 35s 41ms/step - loss: 0.4388 - accuracy: 0.8420 - val_loss: 0.5205 - val_accuracy: 0.8054\n",
      "Epoch 5/20\n",
      "860/860 [==============================] - 35s 41ms/step - loss: 0.4118 - accuracy: 0.8513 - val_loss: 0.4219 - val_accuracy: 0.8508\n",
      "Epoch 6/20\n",
      "860/860 [==============================] - 35s 41ms/step - loss: 0.3929 - accuracy: 0.8595 - val_loss: 0.3801 - val_accuracy: 0.8632\n",
      "Epoch 7/20\n",
      "860/860 [==============================] - 35s 41ms/step - loss: 0.3675 - accuracy: 0.8681 - val_loss: 0.3607 - val_accuracy: 0.8730\n",
      "Epoch 8/20\n",
      "860/860 [==============================] - 35s 41ms/step - loss: 0.3539 - accuracy: 0.8712 - val_loss: 0.4449 - val_accuracy: 0.8344\n",
      "Epoch 9/20\n",
      "860/860 [==============================] - 35s 41ms/step - loss: 0.3381 - accuracy: 0.8784 - val_loss: 0.3823 - val_accuracy: 0.8546\n",
      "Epoch 10/20\n",
      "860/860 [==============================] - 39s 45ms/step - loss: 0.3283 - accuracy: 0.8800 - val_loss: 0.3316 - val_accuracy: 0.8822\n",
      "Epoch 11/20\n",
      "860/860 [==============================] - 37s 42ms/step - loss: 0.3198 - accuracy: 0.8826 - val_loss: 0.3433 - val_accuracy: 0.8788\n",
      "Epoch 12/20\n",
      "860/860 [==============================] - 36s 42ms/step - loss: 0.3148 - accuracy: 0.8856 - val_loss: 0.3424 - val_accuracy: 0.8780\n",
      "Epoch 13/20\n",
      "860/860 [==============================] - 36s 42ms/step - loss: 0.2977 - accuracy: 0.8916 - val_loss: 0.3242 - val_accuracy: 0.8840\n",
      "Epoch 14/20\n",
      "860/860 [==============================] - 36s 42ms/step - loss: 0.2967 - accuracy: 0.8917 - val_loss: 0.3577 - val_accuracy: 0.8650\n",
      "Epoch 15/20\n",
      "860/860 [==============================] - 36s 42ms/step - loss: 0.2915 - accuracy: 0.8936 - val_loss: 0.3298 - val_accuracy: 0.8822\n",
      "Epoch 16/20\n",
      "860/860 [==============================] - 37s 43ms/step - loss: 0.2812 - accuracy: 0.8958 - val_loss: 0.3075 - val_accuracy: 0.8890\n",
      "Epoch 17/20\n",
      "860/860 [==============================] - 37s 43ms/step - loss: 0.2686 - accuracy: 0.9025 - val_loss: 0.3072 - val_accuracy: 0.8900\n",
      "Epoch 18/20\n",
      "860/860 [==============================] - 36s 42ms/step - loss: 0.2716 - accuracy: 0.9002 - val_loss: 0.2847 - val_accuracy: 0.8982\n",
      "Epoch 19/20\n",
      "860/860 [==============================] - 36s 42ms/step - loss: 0.2647 - accuracy: 0.9037 - val_loss: 0.3328 - val_accuracy: 0.8824\n",
      "Epoch 20/20\n",
      "860/860 [==============================] - 36s 42ms/step - loss: 0.2565 - accuracy: 0.9059 - val_loss: 0.2910 - val_accuracy: 0.8948\n"
     ]
    }
   ],
   "source": [
    "model_history = model.fit(X_train, y_train, epochs=20, batch_size=64, validation_data=(X_valid, y_valid))"
   ]
  },
  {
   "cell_type": "markdown",
   "metadata": {},
   "source": [
    "###### Creating Dataframe"
   ]
  },
  {
   "cell_type": "code",
   "execution_count": 17,
   "metadata": {},
   "outputs": [
    {
     "data": {
      "image/png": "[encoded data removed]",
      "text/plain": [
       "<Figure size 720x504 with 1 Axes>"
      ]
     },
     "metadata": {
      "needs_background": "light"
     },
     "output_type": "display_data"
    }
   ],
   "source": [
    "pd.DataFrame(model_history.history).plot(figsize = (10, 7))\n",
    "plt.grid(True)\n",
    "plt.gca().set_ylim(0, 1)\n",
    "plt.show()"
   ]
  },
  {
   "cell_type": "code",
   "execution_count": 18,
   "metadata": {},
   "outputs": [
    {
     "name": "stdout",
     "output_type": "stream",
     "text": [
      "313/313 [==============================] - 3s 11ms/step - loss: 0.3096 - accuracy: 0.8889\n"
     ]
    }
   ],
   "source": [
    "ev = model.evaluate(X_test, y_test)"
   ]
  },
  {
   "cell_type": "code",
   "execution_count": 19,
   "metadata": {},
   "outputs": [
    {
     "data": {
      "text/plain": [
       "[0.3095684349536896, 0.8888999819755554]"
      ]
     },
     "execution_count": 19,
     "metadata": {},
     "output_type": "execute_result"
    }
   ],
   "source": [
    "ev"
   ]
  },
  {
   "cell_type": "code",
   "execution_count": 20,
   "metadata": {},
   "outputs": [],
   "source": [
    "X_new = X_test[:3]"
   ]
  },
  {
   "cell_type": "code",
   "execution_count": 21,
   "metadata": {},
   "outputs": [
    {
     "name": "stderr",
     "output_type": "stream",
     "text": [
      "D:\\Programming\\Python\\Anaconda\\lib\\site-packages\\tensorflow\\python\\keras\\engine\\sequential.py:450: UserWarning: `model.predict_classes()` is deprecated and will be removed after 2021-01-01. Please use instead:* `np.argmax(model.predict(x), axis=-1)`,   if your model does multi-class classification   (e.g. if it uses a `softmax` last-layer activation).* `(model.predict(x) > 0.5).astype(\"int32\")`,   if your model does binary classification   (e.g. if it uses a `sigmoid` last-layer activation).\n",
      "  warnings.warn('`model.predict_classes()` is deprecated and '\n"
     ]
    }
   ],
   "source": [
    "y_pred = model.predict_classes(X_new)"
   ]
  },
  {
   "cell_type": "code",
   "execution_count": 22,
   "metadata": {},
   "outputs": [
    {
     "data": {
      "text/plain": [
       "array([9, 2, 1], dtype=int64)"
      ]
     },
     "execution_count": 22,
     "metadata": {},
     "output_type": "execute_result"
    }
   ],
   "source": [
    "y_pred"
   ]
  },
  {
   "cell_type": "code",
   "execution_count": 23,
   "metadata": {},
   "outputs": [
    {
     "data": {
      "text/plain": [
       "array([9, 2, 1], dtype=uint8)"
      ]
     },
     "execution_count": 23,
     "metadata": {},
     "output_type": "execute_result"
    }
   ],
   "source": [
    "y_test[:3]"
   ]
  },
  {
   "cell_type": "code",
   "execution_count": 24,
   "metadata": {},
   "outputs": [
    {
     "name": "stdout",
     "output_type": "stream",
     "text": [
      "AxesImage(54,36;334.8x217.44)\n"
     ]
    },
    {
     "data": {
      "image/png": "[encoded data removed]",
      "text/plain": [
       "<Figure size 432x288 with 1 Axes>"
      ]
     },
     "metadata": {
      "needs_background": "light"
     },
     "output_type": "display_data"
    }
   ],
   "source": [
    "print(plt.imshow(X_test[0].reshape((28, 28))))"
   ]
  },
  {
   "cell_type": "markdown",
   "metadata": {},
   "source": [
    "### Training Model without Pooling Layer"
   ]
  },
  {
   "cell_type": "code",
   "execution_count": 25,
   "metadata": {},
   "outputs": [],
   "source": [
    "model1 = keras.models.Sequential()\n",
    "\n",
    "# convolution layer\n",
    "model1.add(keras.layers.Conv2D(filters = 32, kernel_size = (3,3), strides = 1, padding = 'valid', activation = 'relu', input_shape=(28, 28, 1)))\n",
    "\n",
    "\n",
    "# converting 3d matrix to 2d using flatten layer\n",
    "model1.add(keras.layers.Flatten())\n",
    "\n",
    "# Deep Dense layers\n",
    "model1.add(keras.layers.Dense(300, activation='relu'))\n",
    "model1.add(keras.layers.Dense(100, activation='relu'))\n",
    "model1.add(keras.layers.Dense(10, activation='softmax'))"
   ]
  },
  {
   "cell_type": "code",
   "execution_count": 26,
   "metadata": {},
   "outputs": [
    {
     "name": "stdout",
     "output_type": "stream",
     "text": [
      "Model: \"sequential_1\"\n",
      "_________________________________________________________________\n",
      "Layer (type)                 Output Shape              Param #   \n",
      "=================================================================\n",
      "conv2d_1 (Conv2D)            (None, 26, 26, 32)        320       \n",
      "_________________________________________________________________\n",
      "flatten_1 (Flatten)          (None, 21632)             0         \n",
      "_________________________________________________________________\n",
      "dense_3 (Dense)              (None, 300)               6489900   \n",
      "_________________________________________________________________\n",
      "dense_4 (Dense)              (None, 100)               30100     \n",
      "_________________________________________________________________\n",
      "dense_5 (Dense)              (None, 10)                1010      \n",
      "=================================================================\n",
      "Total params: 6,521,330\n",
      "Trainable params: 6,521,330\n",
      "Non-trainable params: 0\n",
      "_________________________________________________________________\n"
     ]
    }
   ],
   "source": [
    "model1.summary()"
   ]
  },
  {
   "cell_type": "code",
   "execution_count": 27,
   "metadata": {},
   "outputs": [],
   "source": [
    "model1.compile(loss='sparse_categorical_crossentropy', optimizer='sgd', metrics=['accuracy'])"
   ]
  },
  {
   "cell_type": "code",
   "execution_count": 28,
   "metadata": {},
   "outputs": [
    {
     "name": "stdout",
     "output_type": "stream",
     "text": [
      "Epoch 1/20\n",
      "860/860 [==============================] - 75s 86ms/step - loss: 1.0367 - accuracy: 0.6747 - val_loss: 0.5589 - val_accuracy: 0.7898\n",
      "Epoch 2/20\n",
      "860/860 [==============================] - 67s 78ms/step - loss: 0.5042 - accuracy: 0.8161 - val_loss: 0.5182 - val_accuracy: 0.8026\n",
      "Epoch 3/20\n",
      "860/860 [==============================] - 65s 75ms/step - loss: 0.4425 - accuracy: 0.8416 - val_loss: 0.4310 - val_accuracy: 0.8450\n",
      "Epoch 4/20\n",
      "860/860 [==============================] - 65s 75ms/step - loss: 0.4095 - accuracy: 0.8527 - val_loss: 0.4840 - val_accuracy: 0.8250\n",
      "Epoch 5/20\n",
      "860/860 [==============================] - 65s 75ms/step - loss: 0.3872 - accuracy: 0.8593 - val_loss: 0.4065 - val_accuracy: 0.8484\n",
      "Epoch 6/20\n",
      "860/860 [==============================] - 65s 76ms/step - loss: 0.3717 - accuracy: 0.8650 - val_loss: 0.3734 - val_accuracy: 0.8606\n",
      "Epoch 7/20\n",
      "860/860 [==============================] - 64s 75ms/step - loss: 0.3513 - accuracy: 0.8716 - val_loss: 0.3866 - val_accuracy: 0.8590\n",
      "Epoch 8/20\n",
      "860/860 [==============================] - 65s 75ms/step - loss: 0.3399 - accuracy: 0.8749 - val_loss: 0.4241 - val_accuracy: 0.8372\n",
      "Epoch 9/20\n",
      "860/860 [==============================] - 65s 75ms/step - loss: 0.3280 - accuracy: 0.8798 - val_loss: 0.4311 - val_accuracy: 0.8376\n",
      "Epoch 10/20\n",
      "860/860 [==============================] - 66s 77ms/step - loss: 0.3180 - accuracy: 0.8826 - val_loss: 0.3267 - val_accuracy: 0.8782\n",
      "Epoch 11/20\n",
      "860/860 [==============================] - 66s 77ms/step - loss: 0.3127 - accuracy: 0.8842 - val_loss: 0.3436 - val_accuracy: 0.8738\n",
      "Epoch 12/20\n",
      "860/860 [==============================] - 66s 76ms/step - loss: 0.3056 - accuracy: 0.8900 - val_loss: 0.3452 - val_accuracy: 0.8700\n",
      "Epoch 13/20\n",
      "860/860 [==============================] - 66s 77ms/step - loss: 0.2920 - accuracy: 0.8929 - val_loss: 0.3179 - val_accuracy: 0.8810\n",
      "Epoch 14/20\n",
      "860/860 [==============================] - 66s 77ms/step - loss: 0.2891 - accuracy: 0.8942 - val_loss: 0.3429 - val_accuracy: 0.8706\n",
      "Epoch 15/20\n",
      "860/860 [==============================] - 66s 77ms/step - loss: 0.2863 - accuracy: 0.8945 - val_loss: 0.3061 - val_accuracy: 0.8836\n",
      "Epoch 16/20\n",
      "860/860 [==============================] - 67s 78ms/step - loss: 0.2768 - accuracy: 0.8970 - val_loss: 0.3069 - val_accuracy: 0.8846\n",
      "Epoch 17/20\n",
      "860/860 [==============================] - 66s 77ms/step - loss: 0.2657 - accuracy: 0.9038 - val_loss: 0.3090 - val_accuracy: 0.8856\n",
      "Epoch 18/20\n",
      "860/860 [==============================] - 66s 77ms/step - loss: 0.2673 - accuracy: 0.9014 - val_loss: 0.2909 - val_accuracy: 0.8942\n",
      "Epoch 19/20\n",
      "860/860 [==============================] - 66s 77ms/step - loss: 0.2606 - accuracy: 0.9039 - val_loss: 0.3585 - val_accuracy: 0.8706\n",
      "Epoch 20/20\n",
      "860/860 [==============================] - 66s 77ms/step - loss: 0.2547 - accuracy: 0.9061 - val_loss: 0.3089 - val_accuracy: 0.8878\n"
     ]
    }
   ],
   "source": [
    "model1_history = model1.fit(X_train, y_train, epochs=20, batch_size=64, validation_data=(X_valid, y_valid))"
   ]
  },
  {
   "cell_type": "code",
   "execution_count": 29,
   "metadata": {},
   "outputs": [
    {
     "data": {
      "image/png": "[encoded data removed]",
      "text/plain": [
       "<Figure size 720x504 with 1 Axes>"
      ]
     },
     "metadata": {
      "needs_background": "light"
     },
     "output_type": "display_data"
    }
   ],
   "source": [
    "pd.DataFrame(model1_history.history).plot(figsize = (10, 7))\n",
    "plt.grid(True)\n",
    "plt.gca().set_ylim(0, 1)\n",
    "plt.show()"
   ]
  }
 ],
 "metadata": {
  "kernelspec": {
   "display_name": "Python 3",
   "language": "python",
   "name": "python3"
  },
  "language_info": {
   "codemirror_mode": {
    "name": "ipython",
    "version": 3
   },
   "file_extension": ".py",
   "mimetype": "text/x-python",
   "name": "python",
   "nbconvert_exporter": "python",
   "pygments_lexer": "ipython3",
   "version": "3.8.5"
  }
 },
 "nbformat": 4,
 "nbformat_minor": 4
}
