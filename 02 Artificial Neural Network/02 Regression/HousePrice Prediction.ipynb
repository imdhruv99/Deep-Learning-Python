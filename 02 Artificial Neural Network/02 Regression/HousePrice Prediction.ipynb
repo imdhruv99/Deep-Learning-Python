{
 "cells": [
  {
   "cell_type": "markdown",
   "metadata": {},
   "source": [
    "## HousePrice Prediction using ANN"
   ]
  },
  {
   "cell_type": "markdown",
   "metadata": {},
   "source": [
    "#### Importing Libraries"
   ]
  },
  {
   "cell_type": "code",
   "execution_count": 1,
   "metadata": {},
   "outputs": [],
   "source": [
    "import numpy as np\n",
    "import pandas as pd"
   ]
  },
  {
   "cell_type": "code",
   "execution_count": 2,
   "metadata": {},
   "outputs": [],
   "source": [
    "import matplotlib as mpl\n",
    "import matplotlib.pyplot as plt\n",
    "\n",
    "%matplotlib inline"
   ]
  },
  {
   "cell_type": "code",
   "execution_count": 3,
   "metadata": {},
   "outputs": [],
   "source": [
    "import tensorflow as tf\n",
    "from tensorflow import keras"
   ]
  },
  {
   "cell_type": "markdown",
   "metadata": {},
   "source": [
    "#### Importing Dataset from Sci-kit Learn"
   ]
  },
  {
   "cell_type": "code",
   "execution_count": 4,
   "metadata": {},
   "outputs": [],
   "source": [
    "from sklearn.datasets import fetch_california_housing\n",
    "housing = fetch_california_housing()"
   ]
  },
  {
   "cell_type": "code",
   "execution_count": 5,
   "metadata": {},
   "outputs": [
    {
     "name": "stdout",
     "output_type": "stream",
     "text": [
      "['MedInc', 'HouseAge', 'AveRooms', 'AveBedrms', 'Population', 'AveOccup', 'Latitude', 'Longitude']\n"
     ]
    }
   ],
   "source": [
    "print(housing.feature_names)"
   ]
  },
  {
   "cell_type": "markdown",
   "metadata": {},
   "source": [
    "#### Train Test Split"
   ]
  },
  {
   "cell_type": "code",
   "execution_count": 6,
   "metadata": {},
   "outputs": [],
   "source": [
    "from sklearn.model_selection import train_test_split"
   ]
  },
  {
   "cell_type": "code",
   "execution_count": 7,
   "metadata": {},
   "outputs": [],
   "source": [
    "X_train_full, X_test, y_train_full, y_test = train_test_split(housing.data, housing.target, random_state=50)\n",
    "X_train, X_valid, y_train, y_valid = train_test_split(X_train_full, y_train_full, random_state=50)"
   ]
  },
  {
   "cell_type": "markdown",
   "metadata": {},
   "source": [
    "#### Data Standardization"
   ]
  },
  {
   "cell_type": "code",
   "execution_count": 8,
   "metadata": {},
   "outputs": [],
   "source": [
    "from sklearn.preprocessing import StandardScaler\n",
    "scaler = StandardScaler()"
   ]
  },
  {
   "cell_type": "code",
   "execution_count": 9,
   "metadata": {},
   "outputs": [],
   "source": [
    "X_train = scaler.fit_transform(X_train)\n",
    "X_valid = scaler.fit_transform(X_valid)\n",
    "X_test = scaler.fit_transform(X_test)"
   ]
  },
  {
   "cell_type": "code",
   "execution_count": 10,
   "metadata": {},
   "outputs": [],
   "source": [
    "np.random.seed(50)\n",
    "tf.random.set_seed(50)"
   ]
  },
  {
   "cell_type": "code",
   "execution_count": 11,
   "metadata": {},
   "outputs": [
    {
     "data": {
      "text/plain": [
       "(11610, 8)"
      ]
     },
     "execution_count": 11,
     "metadata": {},
     "output_type": "execute_result"
    }
   ],
   "source": [
    "X_train.shape"
   ]
  },
  {
   "cell_type": "code",
   "execution_count": 12,
   "metadata": {},
   "outputs": [
    {
     "data": {
      "text/plain": [
       "(5160, 8)"
      ]
     },
     "execution_count": 12,
     "metadata": {},
     "output_type": "execute_result"
    }
   ],
   "source": [
    "X_test.shape"
   ]
  },
  {
   "cell_type": "code",
   "execution_count": 13,
   "metadata": {},
   "outputs": [
    {
     "data": {
      "text/plain": [
       "(3870, 8)"
      ]
     },
     "execution_count": 13,
     "metadata": {},
     "output_type": "execute_result"
    }
   ],
   "source": [
    "X_valid.shape"
   ]
  },
  {
   "cell_type": "markdown",
   "metadata": {},
   "source": [
    "#### Creating Structure of Regression ANN Model"
   ]
  },
  {
   "cell_type": "code",
   "execution_count": 14,
   "metadata": {},
   "outputs": [],
   "source": [
    "model = keras.models.Sequential([\n",
    "    keras.layers.Dense(30, activation='relu', input_shape=[8]),\n",
    "    keras.layers.Dense(30, activation='relu'),\n",
    "    keras.layers.Dense(1)\n",
    "])"
   ]
  },
  {
   "cell_type": "code",
   "execution_count": 15,
   "metadata": {},
   "outputs": [
    {
     "name": "stdout",
     "output_type": "stream",
     "text": [
      "Model: \"sequential\"\n",
      "_________________________________________________________________\n",
      "Layer (type)                 Output Shape              Param #   \n",
      "=================================================================\n",
      "dense (Dense)                (None, 30)                270       \n",
      "_________________________________________________________________\n",
      "dense_1 (Dense)              (None, 30)                930       \n",
      "_________________________________________________________________\n",
      "dense_2 (Dense)              (None, 1)                 31        \n",
      "=================================================================\n",
      "Total params: 1,231\n",
      "Trainable params: 1,231\n",
      "Non-trainable params: 0\n",
      "_________________________________________________________________\n"
     ]
    }
   ],
   "source": [
    "model.summary()"
   ]
  },
  {
   "cell_type": "code",
   "execution_count": null,
   "metadata": {},
   "outputs": [],
   "source": []
  },
  {
   "cell_type": "markdown",
   "metadata": {},
   "source": [
    "#### Compiling the Model"
   ]
  },
  {
   "cell_type": "code",
   "execution_count": 16,
   "metadata": {},
   "outputs": [],
   "source": [
    "model.compile(loss='mean_squared_error', optimizer=keras.optimizers.SGD(lr=1e-3),\n",
    "             metrics=['mae'])"
   ]
  },
  {
   "cell_type": "code",
   "execution_count": 17,
   "metadata": {},
   "outputs": [
    {
     "name": "stdout",
     "output_type": "stream",
     "text": [
      "Epoch 1/50\n",
      "363/363 [==============================] - 3s 6ms/step - loss: 2.4668 - mae: 1.1787 - val_loss: 0.8854 - val_mae: 0.6934\n",
      "Epoch 2/50\n",
      "363/363 [==============================] - 1s 2ms/step - loss: 0.7905 - mae: 0.6486 - val_loss: 0.6870 - val_mae: 0.6154\n",
      "Epoch 3/50\n",
      "363/363 [==============================] - 1s 2ms/step - loss: 0.6314 - mae: 0.5828 - val_loss: 0.6258 - val_mae: 0.5819\n",
      "Epoch 4/50\n",
      "363/363 [==============================] - 1s 2ms/step - loss: 0.5558 - mae: 0.5407 - val_loss: 0.5874 - val_mae: 0.5636\n",
      "Epoch 5/50\n",
      "363/363 [==============================] - 1s 2ms/step - loss: 0.5324 - mae: 0.5256 - val_loss: 0.5578 - val_mae: 0.5480\n",
      "Epoch 6/50\n",
      "363/363 [==============================] - 1s 2ms/step - loss: 0.5214 - mae: 0.5132 - val_loss: 0.5359 - val_mae: 0.5365\n",
      "Epoch 7/50\n",
      "363/363 [==============================] - 1s 2ms/step - loss: 0.4771 - mae: 0.5000 - val_loss: 0.5180 - val_mae: 0.5235\n",
      "Epoch 8/50\n",
      "363/363 [==============================] - 1s 2ms/step - loss: 0.4422 - mae: 0.4824 - val_loss: 0.5049 - val_mae: 0.5141\n",
      "Epoch 9/50\n",
      "363/363 [==============================] - 1s 2ms/step - loss: 0.4372 - mae: 0.4785 - val_loss: 0.4930 - val_mae: 0.5108\n",
      "Epoch 10/50\n",
      "363/363 [==============================] - 1s 2ms/step - loss: 0.4337 - mae: 0.4769 - val_loss: 0.4841 - val_mae: 0.5014\n",
      "Epoch 11/50\n",
      "363/363 [==============================] - 1s 2ms/step - loss: 0.4408 - mae: 0.4745 - val_loss: 0.4774 - val_mae: 0.4991\n",
      "Epoch 12/50\n",
      "363/363 [==============================] - 1s 2ms/step - loss: 0.4187 - mae: 0.4675 - val_loss: 0.4727 - val_mae: 0.4930\n",
      "Epoch 13/50\n",
      "363/363 [==============================] - 1s 2ms/step - loss: 0.4022 - mae: 0.4554 - val_loss: 0.4670 - val_mae: 0.4939\n",
      "Epoch 14/50\n",
      "363/363 [==============================] - 1s 2ms/step - loss: 0.3984 - mae: 0.4563 - val_loss: 0.4625 - val_mae: 0.4907\n",
      "Epoch 15/50\n",
      "363/363 [==============================] - 1s 2ms/step - loss: 0.3875 - mae: 0.4527 - val_loss: 0.4618 - val_mae: 0.4879\n",
      "Epoch 16/50\n",
      "363/363 [==============================] - 1s 2ms/step - loss: 0.4018 - mae: 0.4549 - val_loss: 0.4583 - val_mae: 0.4843\n",
      "Epoch 17/50\n",
      "363/363 [==============================] - 1s 2ms/step - loss: 0.3857 - mae: 0.4485 - val_loss: 0.4552 - val_mae: 0.4809\n",
      "Epoch 18/50\n",
      "363/363 [==============================] - 1s 2ms/step - loss: 0.3902 - mae: 0.4486 - val_loss: 0.4526 - val_mae: 0.4832\n",
      "Epoch 19/50\n",
      "363/363 [==============================] - 1s 2ms/step - loss: 0.3837 - mae: 0.4464 - val_loss: 0.4509 - val_mae: 0.4800\n",
      "Epoch 20/50\n",
      "363/363 [==============================] - 1s 2ms/step - loss: 0.3796 - mae: 0.4390 - val_loss: 0.4490 - val_mae: 0.4776\n",
      "Epoch 21/50\n",
      "363/363 [==============================] - 1s 2ms/step - loss: 0.3761 - mae: 0.4434 - val_loss: 0.4490 - val_mae: 0.4772\n",
      "Epoch 22/50\n",
      "363/363 [==============================] - 1s 2ms/step - loss: 0.3669 - mae: 0.4373 - val_loss: 0.4471 - val_mae: 0.4765\n",
      "Epoch 23/50\n",
      "363/363 [==============================] - 1s 2ms/step - loss: 0.3747 - mae: 0.4384 - val_loss: 0.4458 - val_mae: 0.4766\n",
      "Epoch 24/50\n",
      "363/363 [==============================] - 1s 2ms/step - loss: 0.3778 - mae: 0.4413 - val_loss: 0.4453 - val_mae: 0.4757\n",
      "Epoch 25/50\n",
      "363/363 [==============================] - 1s 2ms/step - loss: 0.3704 - mae: 0.4372 - val_loss: 0.4456 - val_mae: 0.4753\n",
      "Epoch 26/50\n",
      "363/363 [==============================] - 1s 2ms/step - loss: 0.3779 - mae: 0.4368 - val_loss: 0.4421 - val_mae: 0.4739\n",
      "Epoch 27/50\n",
      "363/363 [==============================] - 1s 2ms/step - loss: 0.3640 - mae: 0.4347 - val_loss: 0.4440 - val_mae: 0.4712\n",
      "Epoch 28/50\n",
      "363/363 [==============================] - 1s 2ms/step - loss: 0.3604 - mae: 0.4308 - val_loss: 0.4408 - val_mae: 0.4734\n",
      "Epoch 29/50\n",
      "363/363 [==============================] - 1s 2ms/step - loss: 0.3715 - mae: 0.4355 - val_loss: 0.4408 - val_mae: 0.4722\n",
      "Epoch 30/50\n",
      "363/363 [==============================] - 1s 2ms/step - loss: 0.3723 - mae: 0.4303 - val_loss: 0.4411 - val_mae: 0.4716\n",
      "Epoch 31/50\n",
      "363/363 [==============================] - 1s 2ms/step - loss: 0.3584 - mae: 0.4311 - val_loss: 0.4399 - val_mae: 0.4714\n",
      "Epoch 32/50\n",
      "363/363 [==============================] - 1s 2ms/step - loss: 0.3549 - mae: 0.4250 - val_loss: 0.4392 - val_mae: 0.4706\n",
      "Epoch 33/50\n",
      "363/363 [==============================] - 1s 2ms/step - loss: 0.3709 - mae: 0.4330 - val_loss: 0.4383 - val_mae: 0.4692\n",
      "Epoch 34/50\n",
      "363/363 [==============================] - 1s 2ms/step - loss: 0.3661 - mae: 0.4326 - val_loss: 0.4391 - val_mae: 0.4676\n",
      "Epoch 35/50\n",
      "363/363 [==============================] - 1s 2ms/step - loss: 0.3551 - mae: 0.4275 - val_loss: 0.4389 - val_mae: 0.4665\n",
      "Epoch 36/50\n",
      "363/363 [==============================] - 1s 2ms/step - loss: 0.3647 - mae: 0.4320 - val_loss: 0.4414 - val_mae: 0.4666\n",
      "Epoch 37/50\n",
      "363/363 [==============================] - 1s 2ms/step - loss: 0.3554 - mae: 0.4223 - val_loss: 0.4358 - val_mae: 0.4680\n",
      "Epoch 38/50\n",
      "363/363 [==============================] - 1s 2ms/step - loss: 0.3560 - mae: 0.4262 - val_loss: 0.4394 - val_mae: 0.4677\n",
      "Epoch 39/50\n",
      "363/363 [==============================] - 1s 2ms/step - loss: 0.3501 - mae: 0.4196 - val_loss: 0.4354 - val_mae: 0.4674\n",
      "Epoch 40/50\n",
      "363/363 [==============================] - 1s 2ms/step - loss: 0.3482 - mae: 0.4221 - val_loss: 0.4414 - val_mae: 0.4667\n",
      "Epoch 41/50\n",
      "363/363 [==============================] - 1s 2ms/step - loss: 0.3541 - mae: 0.4203 - val_loss: 0.4378 - val_mae: 0.4655\n",
      "Epoch 42/50\n",
      "363/363 [==============================] - 1s 2ms/step - loss: 0.3528 - mae: 0.4236 - val_loss: 0.4394 - val_mae: 0.4652\n",
      "Epoch 43/50\n",
      "363/363 [==============================] - 1s 2ms/step - loss: 0.3500 - mae: 0.4210 - val_loss: 0.4347 - val_mae: 0.4658\n",
      "Epoch 44/50\n",
      "363/363 [==============================] - 1s 2ms/step - loss: 0.3490 - mae: 0.4251 - val_loss: 0.4368 - val_mae: 0.4646\n",
      "Epoch 45/50\n",
      "363/363 [==============================] - 1s 2ms/step - loss: 0.3420 - mae: 0.4188 - val_loss: 0.4352 - val_mae: 0.4659\n",
      "Epoch 46/50\n",
      "363/363 [==============================] - 1s 2ms/step - loss: 0.3414 - mae: 0.4178 - val_loss: 0.4328 - val_mae: 0.4650\n",
      "Epoch 47/50\n",
      "363/363 [==============================] - 1s 2ms/step - loss: 0.3419 - mae: 0.4179 - val_loss: 0.4349 - val_mae: 0.4629\n",
      "Epoch 48/50\n",
      "363/363 [==============================] - 1s 2ms/step - loss: 0.3471 - mae: 0.4177 - val_loss: 0.4339 - val_mae: 0.4618\n",
      "Epoch 49/50\n",
      "363/363 [==============================] - 1s 2ms/step - loss: 0.3454 - mae: 0.4163 - val_loss: 0.4335 - val_mae: 0.4640\n",
      "Epoch 50/50\n",
      "363/363 [==============================] - 1s 2ms/step - loss: 0.3459 - mae: 0.4201 - val_loss: 0.4351 - val_mae: 0.4653\n"
     ]
    }
   ],
   "source": [
    "model_history = model.fit(X_train, y_train, epochs=50, validation_data=(X_valid, y_valid))"
   ]
  },
  {
   "cell_type": "code",
   "execution_count": 18,
   "metadata": {},
   "outputs": [
    {
     "name": "stdout",
     "output_type": "stream",
     "text": [
      "162/162 [==============================] - 0s 1ms/step - loss: 0.4112 - mae: 0.4498\n"
     ]
    }
   ],
   "source": [
    "mae_test = model.evaluate(X_test, y_test)"
   ]
  },
  {
   "cell_type": "code",
   "execution_count": 19,
   "metadata": {},
   "outputs": [
    {
     "data": {
      "text/plain": [
       "{'loss': [1.740788459777832,\n",
       "  0.716242790222168,\n",
       "  0.6063259243965149,\n",
       "  0.5536723732948303,\n",
       "  0.5169718265533447,\n",
       "  0.48886415362358093,\n",
       "  0.4670681059360504,\n",
       "  0.45017147064208984,\n",
       "  0.4369259774684906,\n",
       "  0.4262019991874695,\n",
       "  0.4178534746170044,\n",
       "  0.4111509323120117,\n",
       "  0.4053761065006256,\n",
       "  0.40049922466278076,\n",
       "  0.39623433351516724,\n",
       "  0.3926011323928833,\n",
       "  0.38929426670074463,\n",
       "  0.3863607943058014,\n",
       "  0.38355526328086853,\n",
       "  0.3811274766921997,\n",
       "  0.379117488861084,\n",
       "  0.37684011459350586,\n",
       "  0.3751499354839325,\n",
       "  0.37326541543006897,\n",
       "  0.3715851306915283,\n",
       "  0.37031349539756775,\n",
       "  0.3687596619129181,\n",
       "  0.3673063814640045,\n",
       "  0.3662206530570984,\n",
       "  0.36517444252967834,\n",
       "  0.3640305697917938,\n",
       "  0.36276429891586304,\n",
       "  0.3619367778301239,\n",
       "  0.3608644902706146,\n",
       "  0.3598482310771942,\n",
       "  0.3588029742240906,\n",
       "  0.35823047161102295,\n",
       "  0.35733431577682495,\n",
       "  0.35637637972831726,\n",
       "  0.3556689918041229,\n",
       "  0.3549104928970337,\n",
       "  0.35418614745140076,\n",
       "  0.35369157791137695,\n",
       "  0.35294145345687866,\n",
       "  0.3520849645137787,\n",
       "  0.3513454794883728,\n",
       "  0.3508767783641815,\n",
       "  0.3501433730125427,\n",
       "  0.3495709002017975,\n",
       "  0.3489406406879425],\n",
       " 'mae': [0.9432428479194641,\n",
       "  0.6170798540115356,\n",
       "  0.5684275031089783,\n",
       "  0.5394083857536316,\n",
       "  0.5210052132606506,\n",
       "  0.5051089525222778,\n",
       "  0.49375808238983154,\n",
       "  0.4842001795768738,\n",
       "  0.47672829031944275,\n",
       "  0.4712986946105957,\n",
       "  0.4659936726093292,\n",
       "  0.4618177115917206,\n",
       "  0.45785102248191833,\n",
       "  0.4553307294845581,\n",
       "  0.45312970876693726,\n",
       "  0.45050233602523804,\n",
       "  0.4484294652938843,\n",
       "  0.44567784667015076,\n",
       "  0.4451463222503662,\n",
       "  0.44312962889671326,\n",
       "  0.441397488117218,\n",
       "  0.43971139192581177,\n",
       "  0.4388728141784668,\n",
       "  0.4378197193145752,\n",
       "  0.43600374460220337,\n",
       "  0.4352944791316986,\n",
       "  0.434393048286438,\n",
       "  0.4329208433628082,\n",
       "  0.43250560760498047,\n",
       "  0.4317508637905121,\n",
       "  0.43068352341651917,\n",
       "  0.42963582277297974,\n",
       "  0.42949995398521423,\n",
       "  0.42864876985549927,\n",
       "  0.4277777373790741,\n",
       "  0.427229642868042,\n",
       "  0.4261377155780792,\n",
       "  0.42606303095817566,\n",
       "  0.42509615421295166,\n",
       "  0.42470473051071167,\n",
       "  0.4244838356971741,\n",
       "  0.4234253764152527,\n",
       "  0.42298266291618347,\n",
       "  0.422892302274704,\n",
       "  0.42153555154800415,\n",
       "  0.4218076765537262,\n",
       "  0.42139366269111633,\n",
       "  0.42079707980155945,\n",
       "  0.4200047254562378,\n",
       "  0.41999733448028564],\n",
       " 'val_loss': [0.8853996396064758,\n",
       "  0.6870473623275757,\n",
       "  0.6257981061935425,\n",
       "  0.5874089002609253,\n",
       "  0.5578177571296692,\n",
       "  0.5358812212944031,\n",
       "  0.5180417895317078,\n",
       "  0.5048661828041077,\n",
       "  0.4930082857608795,\n",
       "  0.4841032326221466,\n",
       "  0.4774005711078644,\n",
       "  0.47267839312553406,\n",
       "  0.46696746349334717,\n",
       "  0.4624629020690918,\n",
       "  0.4618465304374695,\n",
       "  0.4583233594894409,\n",
       "  0.4552455544471741,\n",
       "  0.4526097774505615,\n",
       "  0.45089179277420044,\n",
       "  0.448968768119812,\n",
       "  0.4489598274230957,\n",
       "  0.44707638025283813,\n",
       "  0.44583988189697266,\n",
       "  0.44529232382774353,\n",
       "  0.4456079602241516,\n",
       "  0.4420502185821533,\n",
       "  0.4440014362335205,\n",
       "  0.44080889225006104,\n",
       "  0.44079869985580444,\n",
       "  0.4411088824272156,\n",
       "  0.43986231088638306,\n",
       "  0.4391958713531494,\n",
       "  0.43833887577056885,\n",
       "  0.43913164734840393,\n",
       "  0.43886691331863403,\n",
       "  0.4413691461086273,\n",
       "  0.4358290433883667,\n",
       "  0.4393618702888489,\n",
       "  0.43536972999572754,\n",
       "  0.4413968622684479,\n",
       "  0.437825083732605,\n",
       "  0.43936434388160706,\n",
       "  0.4347486197948456,\n",
       "  0.43684902787208557,\n",
       "  0.43521013855934143,\n",
       "  0.43279901146888733,\n",
       "  0.43494129180908203,\n",
       "  0.43393781781196594,\n",
       "  0.4334907829761505,\n",
       "  0.43508464097976685],\n",
       " 'val_mae': [0.6934173107147217,\n",
       "  0.6153854131698608,\n",
       "  0.5818676352500916,\n",
       "  0.5636175870895386,\n",
       "  0.548041582107544,\n",
       "  0.5365423560142517,\n",
       "  0.5234718918800354,\n",
       "  0.5141012072563171,\n",
       "  0.5108020305633545,\n",
       "  0.5014110803604126,\n",
       "  0.4990684986114502,\n",
       "  0.4929925203323364,\n",
       "  0.49391821026802063,\n",
       "  0.49066051840782166,\n",
       "  0.4879452884197235,\n",
       "  0.48434433341026306,\n",
       "  0.4809046685695648,\n",
       "  0.48317235708236694,\n",
       "  0.4799988865852356,\n",
       "  0.4776417315006256,\n",
       "  0.4771795868873596,\n",
       "  0.4765000343322754,\n",
       "  0.476628839969635,\n",
       "  0.4757230579853058,\n",
       "  0.475338876247406,\n",
       "  0.47388869524002075,\n",
       "  0.47121119499206543,\n",
       "  0.47339850664138794,\n",
       "  0.47217386960983276,\n",
       "  0.47155526280403137,\n",
       "  0.47139453887939453,\n",
       "  0.47061142325401306,\n",
       "  0.46924108266830444,\n",
       "  0.46759915351867676,\n",
       "  0.46646061539649963,\n",
       "  0.4666064977645874,\n",
       "  0.4680352509021759,\n",
       "  0.46774089336395264,\n",
       "  0.46740248799324036,\n",
       "  0.46668726205825806,\n",
       "  0.46547529101371765,\n",
       "  0.46519994735717773,\n",
       "  0.46582576632499695,\n",
       "  0.46458861231803894,\n",
       "  0.4659036099910736,\n",
       "  0.46499982476234436,\n",
       "  0.4628545343875885,\n",
       "  0.46177616715431213,\n",
       "  0.46402424573898315,\n",
       "  0.46527090668678284]}"
      ]
     },
     "execution_count": 19,
     "metadata": {},
     "output_type": "execute_result"
    }
   ],
   "source": [
    "model_history.history"
   ]
  },
  {
   "cell_type": "code",
   "execution_count": 20,
   "metadata": {},
   "outputs": [
    {
     "data": {
      "image/png": "[encoded data removed]",
      "text/plain": [
       "<Figure size 720x576 with 1 Axes>"
      ]
     },
     "metadata": {
      "needs_background": "light"
     },
     "output_type": "display_data"
    }
   ],
   "source": [
    "pd.DataFrame(model_history.history).plot(figsize=(10, 8))\n",
    "plt.grid(True)\n",
    "plt.gca().set_ylim(0, 1)\n",
    "plt.show()"
   ]
  },
  {
   "cell_type": "code",
   "execution_count": 21,
   "metadata": {},
   "outputs": [],
   "source": [
    "X_new = X_test[:3]"
   ]
  },
  {
   "cell_type": "code",
   "execution_count": 23,
   "metadata": {},
   "outputs": [],
   "source": [
    "y_pred = model.predict(X_new)"
   ]
  },
  {
   "cell_type": "code",
   "execution_count": 24,
   "metadata": {},
   "outputs": [
    {
     "name": "stdout",
     "output_type": "stream",
     "text": [
      "[[1.8415449]\n",
      " [2.810821 ]\n",
      " [1.8010509]]\n"
     ]
    }
   ],
   "source": [
    "print(y_pred)"
   ]
  },
  {
   "cell_type": "code",
   "execution_count": 25,
   "metadata": {},
   "outputs": [
    {
     "name": "stdout",
     "output_type": "stream",
     "text": [
      "[1.963 2.75  1.275]\n"
     ]
    }
   ],
   "source": [
    "print(y_test[:3])"
   ]
  }
 ],
 "metadata": {
  "kernelspec": {
   "display_name": "Python 3",
   "language": "python",
   "name": "python3"
  },
  "language_info": {
   "codemirror_mode": {
    "name": "ipython",
    "version": 3
   },
   "file_extension": ".py",
   "mimetype": "text/x-python",
   "name": "python",
   "nbconvert_exporter": "python",
   "pygments_lexer": "ipython3",
   "version": "3.8.5"
  }
 },
 "nbformat": 4,
 "nbformat_minor": 4
}
