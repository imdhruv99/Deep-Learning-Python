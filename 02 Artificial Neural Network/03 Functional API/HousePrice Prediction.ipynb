{
 "cells": [
  {
   "cell_type": "markdown",
   "metadata": {},
   "source": [
    "## HousePrice Prediction using ANN & Functional API"
   ]
  },
  {
   "cell_type": "markdown",
   "metadata": {},
   "source": [
    "#### Importing Libraries"
   ]
  },
  {
   "cell_type": "code",
   "execution_count": 1,
   "metadata": {},
   "outputs": [],
   "source": [
    "import numpy as np\n",
    "import pandas as pd"
   ]
  },
  {
   "cell_type": "code",
   "execution_count": 2,
   "metadata": {},
   "outputs": [],
   "source": [
    "import matplotlib as mpl\n",
    "import matplotlib.pyplot as plt\n",
    "\n",
    "%matplotlib inline"
   ]
  },
  {
   "cell_type": "code",
   "execution_count": 3,
   "metadata": {},
   "outputs": [],
   "source": [
    "import tensorflow as tf\n",
    "from tensorflow import keras"
   ]
  },
  {
   "cell_type": "markdown",
   "metadata": {},
   "source": [
    "#### Importing Dataset from Sci-kit Learn"
   ]
  },
  {
   "cell_type": "code",
   "execution_count": 4,
   "metadata": {},
   "outputs": [],
   "source": [
    "from sklearn.datasets import fetch_california_housing\n",
    "housing = fetch_california_housing()"
   ]
  },
  {
   "cell_type": "code",
   "execution_count": 5,
   "metadata": {},
   "outputs": [
    {
     "name": "stdout",
     "output_type": "stream",
     "text": [
      "['MedInc', 'HouseAge', 'AveRooms', 'AveBedrms', 'Population', 'AveOccup', 'Latitude', 'Longitude']\n"
     ]
    }
   ],
   "source": [
    "print(housing.feature_names)"
   ]
  },
  {
   "cell_type": "markdown",
   "metadata": {},
   "source": [
    "#### Train Test Split"
   ]
  },
  {
   "cell_type": "code",
   "execution_count": 6,
   "metadata": {},
   "outputs": [],
   "source": [
    "from sklearn.model_selection import train_test_split"
   ]
  },
  {
   "cell_type": "code",
   "execution_count": 7,
   "metadata": {},
   "outputs": [],
   "source": [
    "X_train_full, X_test, y_train_full, y_test = train_test_split(housing.data, housing.target, random_state=50)\n",
    "X_train, X_valid, y_train, y_valid = train_test_split(X_train_full, y_train_full, random_state=50)"
   ]
  },
  {
   "cell_type": "markdown",
   "metadata": {},
   "source": [
    "#### Data Standardization"
   ]
  },
  {
   "cell_type": "code",
   "execution_count": 8,
   "metadata": {},
   "outputs": [],
   "source": [
    "from sklearn.preprocessing import StandardScaler\n",
    "scaler = StandardScaler()"
   ]
  },
  {
   "cell_type": "code",
   "execution_count": 9,
   "metadata": {},
   "outputs": [],
   "source": [
    "X_train = scaler.fit_transform(X_train)\n",
    "X_valid = scaler.fit_transform(X_valid)\n",
    "X_test = scaler.fit_transform(X_test)"
   ]
  },
  {
   "cell_type": "code",
   "execution_count": 10,
   "metadata": {},
   "outputs": [],
   "source": [
    "np.random.seed(50)\n",
    "tf.random.set_seed(50)"
   ]
  },
  {
   "cell_type": "code",
   "execution_count": 11,
   "metadata": {},
   "outputs": [
    {
     "data": {
      "text/plain": [
       "(11610, 8)"
      ]
     },
     "execution_count": 11,
     "metadata": {},
     "output_type": "execute_result"
    }
   ],
   "source": [
    "X_train.shape"
   ]
  },
  {
   "cell_type": "code",
   "execution_count": 12,
   "metadata": {},
   "outputs": [
    {
     "data": {
      "text/plain": [
       "(5160, 8)"
      ]
     },
     "execution_count": 12,
     "metadata": {},
     "output_type": "execute_result"
    }
   ],
   "source": [
    "X_test.shape"
   ]
  },
  {
   "cell_type": "code",
   "execution_count": 13,
   "metadata": {},
   "outputs": [
    {
     "data": {
      "text/plain": [
       "(3870, 8)"
      ]
     },
     "execution_count": 13,
     "metadata": {},
     "output_type": "execute_result"
    }
   ],
   "source": [
    "X_valid.shape"
   ]
  },
  {
   "cell_type": "markdown",
   "metadata": {},
   "source": [
    "#### Creating Structure of Regression Functiol API ANN Model"
   ]
  },
  {
   "cell_type": "code",
   "execution_count": 14,
   "metadata": {},
   "outputs": [],
   "source": [
    "input_ = keras.layers.Input(shape=X_train.shape[1:])\n",
    "# calling input_ layer as function\n",
    "hidden1 = keras.layers.Dense(30, activation='relu')(input_)\n",
    "hidden2 = keras.layers.Dense(30, activation='relu')(hidden1)\n",
    "concat = keras.layers.concatenate([input_, hidden2])\n",
    "output = keras.layers.Dense(1)(concat)\n",
    "model = keras.models.Model(inputs=[input_], outputs=[output])"
   ]
  },
  {
   "cell_type": "code",
   "execution_count": 15,
   "metadata": {},
   "outputs": [
    {
     "name": "stdout",
     "output_type": "stream",
     "text": [
      "Model: \"model\"\n",
      "__________________________________________________________________________________________________\n",
      "Layer (type)                    Output Shape         Param #     Connected to                     \n",
      "==================================================================================================\n",
      "input_1 (InputLayer)            [(None, 8)]          0                                            \n",
      "__________________________________________________________________________________________________\n",
      "dense (Dense)                   (None, 30)           270         input_1[0][0]                    \n",
      "__________________________________________________________________________________________________\n",
      "dense_1 (Dense)                 (None, 30)           930         dense[0][0]                      \n",
      "__________________________________________________________________________________________________\n",
      "concatenate (Concatenate)       (None, 38)           0           input_1[0][0]                    \n",
      "                                                                 dense_1[0][0]                    \n",
      "__________________________________________________________________________________________________\n",
      "dense_2 (Dense)                 (None, 1)            39          concatenate[0][0]                \n",
      "==================================================================================================\n",
      "Total params: 1,239\n",
      "Trainable params: 1,239\n",
      "Non-trainable params: 0\n",
      "__________________________________________________________________________________________________\n"
     ]
    }
   ],
   "source": [
    "model.summary()"
   ]
  },
  {
   "cell_type": "markdown",
   "metadata": {},
   "source": [
    "#### Compiling the model"
   ]
  },
  {
   "cell_type": "code",
   "execution_count": 16,
   "metadata": {},
   "outputs": [],
   "source": [
    "model.compile(loss='mean_squared_error',\n",
    "             optimizer=keras.optimizers.SGD(lr=1e-3),\n",
    "             metrics=['mae'])"
   ]
  },
  {
   "cell_type": "code",
   "execution_count": 17,
   "metadata": {},
   "outputs": [
    {
     "name": "stdout",
     "output_type": "stream",
     "text": [
      "Epoch 1/40\n",
      "363/363 [==============================] - 5s 7ms/step - loss: 2.2311 - mae: 1.1426 - val_loss: 0.7684 - val_mae: 0.6334\n",
      "Epoch 2/40\n",
      "363/363 [==============================] - 1s 2ms/step - loss: 0.7327 - mae: 0.6104 - val_loss: 0.6905 - val_mae: 0.6109\n",
      "Epoch 3/40\n",
      "363/363 [==============================] - 1s 2ms/step - loss: 0.6623 - mae: 0.5871 - val_loss: 0.6486 - val_mae: 0.5889\n",
      "Epoch 4/40\n",
      "363/363 [==============================] - 1s 2ms/step - loss: 0.6000 - mae: 0.5563 - val_loss: 0.6244 - val_mae: 0.5784\n",
      "Epoch 5/40\n",
      "363/363 [==============================] - 1s 2ms/step - loss: 0.5833 - mae: 0.5473 - val_loss: 0.5951 - val_mae: 0.5649\n",
      "Epoch 6/40\n",
      "363/363 [==============================] - 1s 2ms/step - loss: 0.5849 - mae: 0.5402 - val_loss: 0.5740 - val_mae: 0.5544\n",
      "Epoch 7/40\n",
      "363/363 [==============================] - 1s 2ms/step - loss: 0.5293 - mae: 0.5250 - val_loss: 0.5574 - val_mae: 0.5444\n",
      "Epoch 8/40\n",
      "363/363 [==============================] - 1s 2ms/step - loss: 0.4944 - mae: 0.5075 - val_loss: 0.5407 - val_mae: 0.5345\n",
      "Epoch 9/40\n",
      "363/363 [==============================] - 1s 2ms/step - loss: 0.4871 - mae: 0.5043 - val_loss: 0.5280 - val_mae: 0.5312\n",
      "Epoch 10/40\n",
      "363/363 [==============================] - 1s 2ms/step - loss: 0.4779 - mae: 0.5014 - val_loss: 0.5193 - val_mae: 0.5239\n",
      "Epoch 11/40\n",
      "363/363 [==============================] - 1s 2ms/step - loss: 0.4843 - mae: 0.4987 - val_loss: 0.5096 - val_mae: 0.5204\n",
      "Epoch 12/40\n",
      "363/363 [==============================] - 1s 2ms/step - loss: 0.4569 - mae: 0.4902 - val_loss: 0.5010 - val_mae: 0.5126\n",
      "Epoch 13/40\n",
      "363/363 [==============================] - 1s 2ms/step - loss: 0.4415 - mae: 0.4779 - val_loss: 0.4945 - val_mae: 0.5118\n",
      "Epoch 14/40\n",
      "363/363 [==============================] - 1s 2ms/step - loss: 0.4315 - mae: 0.4750 - val_loss: 0.4892 - val_mae: 0.5100\n",
      "Epoch 15/40\n",
      "363/363 [==============================] - 1s 2ms/step - loss: 0.4208 - mae: 0.4730 - val_loss: 0.4857 - val_mae: 0.5054\n",
      "Epoch 16/40\n",
      "363/363 [==============================] - 1s 2ms/step - loss: 0.4340 - mae: 0.4757 - val_loss: 0.4823 - val_mae: 0.5032\n",
      "Epoch 17/40\n",
      "363/363 [==============================] - 1s 2ms/step - loss: 0.4144 - mae: 0.4672 - val_loss: 0.4784 - val_mae: 0.4988\n",
      "Epoch 18/40\n",
      "363/363 [==============================] - 1s 2ms/step - loss: 0.4161 - mae: 0.4675 - val_loss: 0.4740 - val_mae: 0.5005\n",
      "Epoch 19/40\n",
      "363/363 [==============================] - 1s 2ms/step - loss: 0.4108 - mae: 0.4660 - val_loss: 0.4730 - val_mae: 0.4966\n",
      "Epoch 20/40\n",
      "363/363 [==============================] - 1s 2ms/step - loss: 0.4068 - mae: 0.4590 - val_loss: 0.4686 - val_mae: 0.4931\n",
      "Epoch 21/40\n",
      "363/363 [==============================] - 1s 2ms/step - loss: 0.4020 - mae: 0.4626 - val_loss: 0.4685 - val_mae: 0.4921\n",
      "Epoch 22/40\n",
      "363/363 [==============================] - 1s 2ms/step - loss: 0.3909 - mae: 0.4549 - val_loss: 0.4652 - val_mae: 0.4912\n",
      "Epoch 23/40\n",
      "363/363 [==============================] - 1s 2ms/step - loss: 0.3969 - mae: 0.4558 - val_loss: 0.4648 - val_mae: 0.4913\n",
      "Epoch 24/40\n",
      "363/363 [==============================] - 1s 2ms/step - loss: 0.4000 - mae: 0.4574 - val_loss: 0.4623 - val_mae: 0.4900\n",
      "Epoch 25/40\n",
      "363/363 [==============================] - 1s 2ms/step - loss: 0.3921 - mae: 0.4542 - val_loss: 0.4628 - val_mae: 0.4887\n",
      "Epoch 26/40\n",
      "363/363 [==============================] - 1s 2ms/step - loss: 0.3975 - mae: 0.4534 - val_loss: 0.4584 - val_mae: 0.4866\n",
      "Epoch 27/40\n",
      "363/363 [==============================] - 1s 2ms/step - loss: 0.3830 - mae: 0.4497 - val_loss: 0.4597 - val_mae: 0.4841\n",
      "Epoch 28/40\n",
      "363/363 [==============================] - 1s 2ms/step - loss: 0.3767 - mae: 0.4431 - val_loss: 0.4565 - val_mae: 0.4856\n",
      "Epoch 29/40\n",
      "363/363 [==============================] - 1s 2ms/step - loss: 0.3895 - mae: 0.4506 - val_loss: 0.4565 - val_mae: 0.4849\n",
      "Epoch 30/40\n",
      "363/363 [==============================] - 1s 2ms/step - loss: 0.3867 - mae: 0.4433 - val_loss: 0.4549 - val_mae: 0.4837\n",
      "Epoch 31/40\n",
      "363/363 [==============================] - 1s 2ms/step - loss: 0.3737 - mae: 0.4447 - val_loss: 0.4550 - val_mae: 0.4831\n",
      "Epoch 32/40\n",
      "363/363 [==============================] - 1s 2ms/step - loss: 0.3709 - mae: 0.4397 - val_loss: 0.4538 - val_mae: 0.4820\n",
      "Epoch 33/40\n",
      "363/363 [==============================] - 1s 2ms/step - loss: 0.3871 - mae: 0.4470 - val_loss: 0.4528 - val_mae: 0.4812\n",
      "Epoch 34/40\n",
      "363/363 [==============================] - 1s 2ms/step - loss: 0.3807 - mae: 0.4448 - val_loss: 0.4532 - val_mae: 0.4786\n",
      "Epoch 35/40\n",
      "363/363 [==============================] - 1s 2ms/step - loss: 0.3695 - mae: 0.4399 - val_loss: 0.4528 - val_mae: 0.4780\n",
      "Epoch 36/40\n",
      "363/363 [==============================] - 1s 2ms/step - loss: 0.3778 - mae: 0.4437 - val_loss: 0.4551 - val_mae: 0.4773\n",
      "Epoch 37/40\n",
      "363/363 [==============================] - 1s 2ms/step - loss: 0.3673 - mae: 0.4348 - val_loss: 0.4498 - val_mae: 0.4781\n",
      "Epoch 38/40\n",
      "363/363 [==============================] - 1s 2ms/step - loss: 0.3703 - mae: 0.4398 - val_loss: 0.4532 - val_mae: 0.4782\n",
      "Epoch 39/40\n",
      "363/363 [==============================] - 1s 2ms/step - loss: 0.3638 - mae: 0.4314 - val_loss: 0.4486 - val_mae: 0.4779\n",
      "Epoch 40/40\n",
      "363/363 [==============================] - 1s 2ms/step - loss: 0.3612 - mae: 0.4328 - val_loss: 0.4535 - val_mae: 0.4772\n"
     ]
    }
   ],
   "source": [
    "model_history = model.fit(X_train, y_train, epochs=40, validation_data=(X_valid, y_valid))"
   ]
  },
  {
   "cell_type": "code",
   "execution_count": 18,
   "metadata": {},
   "outputs": [
    {
     "name": "stdout",
     "output_type": "stream",
     "text": [
      "162/162 [==============================] - 0s 2ms/step - loss: 0.4244 - mae: 0.4571\n"
     ]
    }
   ],
   "source": [
    "mae_test = model.evaluate(X_test, y_test)"
   ]
  },
  {
   "cell_type": "code",
   "execution_count": 19,
   "metadata": {},
   "outputs": [
    {
     "data": {
      "text/plain": [
       "{'loss': [1.5085711479187012,\n",
       "  0.7022940516471863,\n",
       "  0.6414400935173035,\n",
       "  0.601527214050293,\n",
       "  0.5715582966804504,\n",
       "  0.5428943037986755,\n",
       "  0.5212160348892212,\n",
       "  0.5013296008110046,\n",
       "  0.485250324010849,\n",
       "  0.47037944197654724,\n",
       "  0.4597136378288269,\n",
       "  0.44959259033203125,\n",
       "  0.4415992498397827,\n",
       "  0.43537911772727966,\n",
       "  0.4285051226615906,\n",
       "  0.42363566160202026,\n",
       "  0.41830313205718994,\n",
       "  0.4144939184188843,\n",
       "  0.4107559025287628,\n",
       "  0.40723392367362976,\n",
       "  0.4041399657726288,\n",
       "  0.40104398131370544,\n",
       "  0.39809709787368774,\n",
       "  0.3954378664493561,\n",
       "  0.3928975462913513,\n",
       "  0.39072054624557495,\n",
       "  0.3883255422115326,\n",
       "  0.38601043820381165,\n",
       "  0.38399872183799744,\n",
       "  0.3821573853492737,\n",
       "  0.3801232576370239,\n",
       "  0.3782511353492737,\n",
       "  0.37695077061653137,\n",
       "  0.3753979802131653,\n",
       "  0.37370431423187256,\n",
       "  0.3722882866859436,\n",
       "  0.3711693286895752,\n",
       "  0.36972808837890625,\n",
       "  0.3684650957584381,\n",
       "  0.36732324957847595],\n",
       " 'mae': [0.8646358847618103,\n",
       "  0.5983306169509888,\n",
       "  0.5761095285415649,\n",
       "  0.5565008521080017,\n",
       "  0.5442651510238647,\n",
       "  0.5300520658493042,\n",
       "  0.5192780494689941,\n",
       "  0.5101088881492615,\n",
       "  0.5017080903053284,\n",
       "  0.4952954649925232,\n",
       "  0.48903390765190125,\n",
       "  0.4844077229499817,\n",
       "  0.47966688871383667,\n",
       "  0.4763968288898468,\n",
       "  0.474007785320282,\n",
       "  0.47083181142807007,\n",
       "  0.4684087038040161,\n",
       "  0.46523353457450867,\n",
       "  0.4642734229564667,\n",
       "  0.46176400780677795,\n",
       "  0.45985352993011475,\n",
       "  0.45761314034461975,\n",
       "  0.4561600685119629,\n",
       "  0.45461398363113403,\n",
       "  0.452720046043396,\n",
       "  0.4513903260231018,\n",
       "  0.45017609000205994,\n",
       "  0.44793838262557983,\n",
       "  0.4472406506538391,\n",
       "  0.44597527384757996,\n",
       "  0.4446108639240265,\n",
       "  0.44309383630752563,\n",
       "  0.44264504313468933,\n",
       "  0.4416279196739197,\n",
       "  0.4402328133583069,\n",
       "  0.43941497802734375,\n",
       "  0.43808504939079285,\n",
       "  0.4375695586204529,\n",
       "  0.43649277091026306,\n",
       "  0.43575337529182434],\n",
       " 'val_loss': [0.7684075236320496,\n",
       "  0.6904661655426025,\n",
       "  0.6486385464668274,\n",
       "  0.6244068741798401,\n",
       "  0.5950738191604614,\n",
       "  0.5740138292312622,\n",
       "  0.5574027895927429,\n",
       "  0.5406884551048279,\n",
       "  0.5280386209487915,\n",
       "  0.5193187594413757,\n",
       "  0.5096296072006226,\n",
       "  0.501021683216095,\n",
       "  0.494520366191864,\n",
       "  0.4891884922981262,\n",
       "  0.48567163944244385,\n",
       "  0.48226192593574524,\n",
       "  0.47841018438339233,\n",
       "  0.47398269176483154,\n",
       "  0.4730049967765808,\n",
       "  0.46859878301620483,\n",
       "  0.4684632122516632,\n",
       "  0.4652232825756073,\n",
       "  0.4647671580314636,\n",
       "  0.46226170659065247,\n",
       "  0.46282774209976196,\n",
       "  0.45844554901123047,\n",
       "  0.45967623591423035,\n",
       "  0.4565129578113556,\n",
       "  0.45653578639030457,\n",
       "  0.45487844944000244,\n",
       "  0.4550463855266571,\n",
       "  0.45378682017326355,\n",
       "  0.45280003547668457,\n",
       "  0.4531620144844055,\n",
       "  0.4527783691883087,\n",
       "  0.4550747275352478,\n",
       "  0.4497798979282379,\n",
       "  0.45316118001937866,\n",
       "  0.4486350119113922,\n",
       "  0.45354950428009033],\n",
       " 'val_mae': [0.6333979964256287,\n",
       "  0.6108813285827637,\n",
       "  0.5888535976409912,\n",
       "  0.5783601999282837,\n",
       "  0.5649394989013672,\n",
       "  0.5543630719184875,\n",
       "  0.5444004535675049,\n",
       "  0.534547746181488,\n",
       "  0.5312155485153198,\n",
       "  0.5239130258560181,\n",
       "  0.5204254984855652,\n",
       "  0.5125917196273804,\n",
       "  0.5117517113685608,\n",
       "  0.5100395679473877,\n",
       "  0.5053942799568176,\n",
       "  0.5032370686531067,\n",
       "  0.49878108501434326,\n",
       "  0.5005369782447815,\n",
       "  0.4965767562389374,\n",
       "  0.4930739402770996,\n",
       "  0.49212050437927246,\n",
       "  0.4912063181400299,\n",
       "  0.49127158522605896,\n",
       "  0.4899930953979492,\n",
       "  0.4887213706970215,\n",
       "  0.48658487200737,\n",
       "  0.48414021730422974,\n",
       "  0.4856097996234894,\n",
       "  0.48490044474601746,\n",
       "  0.4836709201335907,\n",
       "  0.48306527733802795,\n",
       "  0.48203423619270325,\n",
       "  0.4811623990535736,\n",
       "  0.4786392152309418,\n",
       "  0.4780048429965973,\n",
       "  0.4773123562335968,\n",
       "  0.47809240221977234,\n",
       "  0.4782140254974365,\n",
       "  0.4778543710708618,\n",
       "  0.47722989320755005]}"
      ]
     },
     "execution_count": 19,
     "metadata": {},
     "output_type": "execute_result"
    }
   ],
   "source": [
    "model_history.history"
   ]
  },
  {
   "cell_type": "code",
   "execution_count": 20,
   "metadata": {},
   "outputs": [
    {
     "data": {
      "image/png": "[encoded data removed]",
      "text/plain": [
       "<Figure size 720x504 with 1 Axes>"
      ]
     },
     "metadata": {
      "needs_background": "light"
     },
     "output_type": "display_data"
    }
   ],
   "source": [
    "pd.DataFrame(model_history.history).plot(figsize = (10, 7))\n",
    "plt.grid(True)\n",
    "plt.gca().set_ylim(0, 1)\n",
    "plt.show()"
   ]
  },
  {
   "cell_type": "markdown",
   "metadata": {},
   "source": [
    "### Saving and Restoring Model"
   ]
  },
  {
   "cell_type": "code",
   "execution_count": 21,
   "metadata": {},
   "outputs": [],
   "source": [
    "model.save('my_model.h5')"
   ]
  },
  {
   "cell_type": "code",
   "execution_count": 22,
   "metadata": {},
   "outputs": [],
   "source": [
    "del model"
   ]
  },
  {
   "cell_type": "code",
   "execution_count": 23,
   "metadata": {},
   "outputs": [],
   "source": [
    "keras.backend.clear_session()"
   ]
  },
  {
   "cell_type": "code",
   "execution_count": 24,
   "metadata": {},
   "outputs": [],
   "source": [
    "model = keras.models.load_model('my_model.h5')"
   ]
  },
  {
   "cell_type": "code",
   "execution_count": 25,
   "metadata": {},
   "outputs": [
    {
     "name": "stdout",
     "output_type": "stream",
     "text": [
      "Model: \"model\"\n",
      "__________________________________________________________________________________________________\n",
      "Layer (type)                    Output Shape         Param #     Connected to                     \n",
      "==================================================================================================\n",
      "input_1 (InputLayer)            [(None, 8)]          0                                            \n",
      "__________________________________________________________________________________________________\n",
      "dense (Dense)                   (None, 30)           270         input_1[0][0]                    \n",
      "__________________________________________________________________________________________________\n",
      "dense_1 (Dense)                 (None, 30)           930         dense[0][0]                      \n",
      "__________________________________________________________________________________________________\n",
      "concatenate (Concatenate)       (None, 38)           0           input_1[0][0]                    \n",
      "                                                                 dense_1[0][0]                    \n",
      "__________________________________________________________________________________________________\n",
      "dense_2 (Dense)                 (None, 1)            39          concatenate[0][0]                \n",
      "==================================================================================================\n",
      "Total params: 1,239\n",
      "Trainable params: 1,239\n",
      "Non-trainable params: 0\n",
      "__________________________________________________________________________________________________\n"
     ]
    }
   ],
   "source": [
    "model.summary()"
   ]
  },
  {
   "cell_type": "code",
   "execution_count": 26,
   "metadata": {},
   "outputs": [
    {
     "name": "stdout",
     "output_type": "stream",
     "text": [
      "[[1.82586  ]\n",
      " [2.827533 ]\n",
      " [1.8785833]\n",
      " ...\n",
      " [1.704453 ]\n",
      " [1.3916957]\n",
      " [2.2459216]]\n"
     ]
    }
   ],
   "source": [
    "y_pred = model.predict(X_test)\n",
    "print(y_pred)"
   ]
  },
  {
   "cell_type": "markdown",
   "metadata": {},
   "source": [
    "### Using Callbacks during Model Training\n",
    "\n",
    "- callbacks are checkpoints, they allow us to save model after each and every epoch."
   ]
  },
  {
   "cell_type": "code",
   "execution_count": 27,
   "metadata": {},
   "outputs": [],
   "source": [
    "del model"
   ]
  },
  {
   "cell_type": "code",
   "execution_count": 28,
   "metadata": {},
   "outputs": [],
   "source": [
    "keras.backend.clear_session()"
   ]
  },
  {
   "cell_type": "code",
   "execution_count": 29,
   "metadata": {},
   "outputs": [],
   "source": [
    "np.random.seed(55)\n",
    "tf.random.set_seed(50)"
   ]
  },
  {
   "cell_type": "code",
   "execution_count": 30,
   "metadata": {},
   "outputs": [],
   "source": [
    "model = keras.models.Sequential([\n",
    "    keras.layers.Dense(30, activation='relu', input_shape=[8]),\n",
    "    keras.layers.Dense(30, activation='relu'),\n",
    "    keras.layers.Dense(30, activation='relu'),\n",
    "    keras.layers.Dense(1)\n",
    "])"
   ]
  },
  {
   "cell_type": "code",
   "execution_count": 31,
   "metadata": {},
   "outputs": [],
   "source": [
    "model.compile(loss='mse', optimizer=keras.optimizers.SGD(lr=1e-3))"
   ]
  },
  {
   "cell_type": "code",
   "execution_count": 32,
   "metadata": {},
   "outputs": [],
   "source": [
    "checkpoints = keras.callbacks.ModelCheckpoint('model_{epoch:02d}.h5')"
   ]
  },
  {
   "cell_type": "code",
   "execution_count": 33,
   "metadata": {},
   "outputs": [
    {
     "name": "stdout",
     "output_type": "stream",
     "text": [
      "Epoch 1/20\n",
      "363/363 [==============================] - 2s 3ms/step - loss: 2.7652 - val_loss: 0.9306\n",
      "Epoch 2/20\n",
      "363/363 [==============================] - 1s 2ms/step - loss: 0.8263 - val_loss: 0.7019\n",
      "Epoch 3/20\n",
      "363/363 [==============================] - 1s 2ms/step - loss: 0.6519 - val_loss: 0.6367\n",
      "Epoch 4/20\n",
      "363/363 [==============================] - 1s 2ms/step - loss: 0.5732 - val_loss: 0.5984\n",
      "Epoch 5/20\n",
      "363/363 [==============================] - 1s 2ms/step - loss: 0.5458 - val_loss: 0.5694\n",
      "Epoch 6/20\n",
      "363/363 [==============================] - 1s 3ms/step - loss: 0.5320 - val_loss: 0.5474\n",
      "Epoch 7/20\n",
      "363/363 [==============================] - 1s 2ms/step - loss: 0.4909 - val_loss: 0.5293\n",
      "Epoch 8/20\n",
      "363/363 [==============================] - 1s 2ms/step - loss: 0.4555 - val_loss: 0.5160\n",
      "Epoch 9/20\n",
      "363/363 [==============================] - 1s 2ms/step - loss: 0.4479 - val_loss: 0.5041\n",
      "Epoch 10/20\n",
      "363/363 [==============================] - 1s 2ms/step - loss: 0.4458 - val_loss: 0.4944\n",
      "Epoch 11/20\n",
      "363/363 [==============================] - 1s 2ms/step - loss: 0.4502 - val_loss: 0.4874\n",
      "Epoch 12/20\n",
      "363/363 [==============================] - 1s 2ms/step - loss: 0.4306 - val_loss: 0.4824\n",
      "Epoch 13/20\n",
      "363/363 [==============================] - 1s 2ms/step - loss: 0.4140 - val_loss: 0.4752\n",
      "Epoch 14/20\n",
      "363/363 [==============================] - 1s 2ms/step - loss: 0.4072 - val_loss: 0.4714\n",
      "Epoch 15/20\n",
      "363/363 [==============================] - 1s 2ms/step - loss: 0.3950 - val_loss: 0.4681\n",
      "Epoch 16/20\n",
      "363/363 [==============================] - 1s 2ms/step - loss: 0.4073 - val_loss: 0.4649\n",
      "Epoch 17/20\n",
      "363/363 [==============================] - 1s 2ms/step - loss: 0.3889 - val_loss: 0.4614\n",
      "Epoch 18/20\n",
      "363/363 [==============================] - 1s 2ms/step - loss: 0.3928 - val_loss: 0.4573\n",
      "Epoch 19/20\n",
      "363/363 [==============================] - 1s 2ms/step - loss: 0.3876 - val_loss: 0.4560\n",
      "Epoch 20/20\n",
      "363/363 [==============================] - 1s 2ms/step - loss: 0.3848 - val_loss: 0.4533\n"
     ]
    }
   ],
   "source": [
    "hostory = model.fit(X_train, y_train, epochs=20,\n",
    "                   validation_data=(X_valid, y_valid),\n",
    "                   callbacks=[checkpoints])"
   ]
  },
  {
   "cell_type": "code",
   "execution_count": 34,
   "metadata": {},
   "outputs": [],
   "source": [
    "del model"
   ]
  },
  {
   "cell_type": "code",
   "execution_count": 35,
   "metadata": {},
   "outputs": [],
   "source": [
    "keras.backend.clear_session()"
   ]
  },
  {
   "cell_type": "code",
   "execution_count": 36,
   "metadata": {},
   "outputs": [],
   "source": [
    "model = keras.models.load_model('model_13.h5')"
   ]
  },
  {
   "cell_type": "code",
   "execution_count": 38,
   "metadata": {},
   "outputs": [
    {
     "name": "stdout",
     "output_type": "stream",
     "text": [
      "1/1 [==============================] - 0s 218ms/step - loss: 0.4527\n"
     ]
    }
   ],
   "source": [
    "mse_test = model.evaluate(X_test, y_test, batch_size=5160)"
   ]
  },
  {
   "cell_type": "code",
   "execution_count": 39,
   "metadata": {},
   "outputs": [
    {
     "name": "stdout",
     "output_type": "stream",
     "text": [
      "0.4527480900287628\n"
     ]
    }
   ],
   "source": [
    "print(mse_test)"
   ]
  },
  {
   "cell_type": "code",
   "execution_count": 40,
   "metadata": {},
   "outputs": [
    {
     "data": {
      "text/plain": [
       "['loss']"
      ]
     },
     "execution_count": 40,
     "metadata": {},
     "output_type": "execute_result"
    }
   ],
   "source": [
    "model.metrics_names"
   ]
  },
  {
   "cell_type": "code",
   "execution_count": 41,
   "metadata": {},
   "outputs": [],
   "source": [
    "y_pred = model.predict(X_test)"
   ]
  },
  {
   "cell_type": "code",
   "execution_count": 42,
   "metadata": {},
   "outputs": [],
   "source": [
    "y_diff = y_pred - y_test"
   ]
  },
  {
   "cell_type": "code",
   "execution_count": 43,
   "metadata": {},
   "outputs": [
    {
     "data": {
      "text/plain": [
       "(5160, 1)"
      ]
     },
     "execution_count": 43,
     "metadata": {},
     "output_type": "execute_result"
    }
   ],
   "source": [
    "y_pred.shape"
   ]
  },
  {
   "cell_type": "markdown",
   "metadata": {},
   "source": [
    "### Best Model"
   ]
  },
  {
   "cell_type": "code",
   "execution_count": 45,
   "metadata": {},
   "outputs": [
    {
     "data": {
      "text/plain": [
       "<function tensorflow.python.keras.backend.clear_session()>"
      ]
     },
     "execution_count": 45,
     "metadata": {},
     "output_type": "execute_result"
    }
   ],
   "source": [
    "del model\n",
    "keras.backend.clear_session"
   ]
  },
  {
   "cell_type": "code",
   "execution_count": 46,
   "metadata": {},
   "outputs": [],
   "source": [
    "model = keras.models.Sequential([\n",
    "    keras.layers.Dense(30, activation=\"relu\", input_shape=[8]),\n",
    "    keras.layers.Dense(30, activation=\"relu\"),\n",
    "    keras.layers.Dense(1)\n",
    "]) "
   ]
  },
  {
   "cell_type": "code",
   "execution_count": 47,
   "metadata": {},
   "outputs": [],
   "source": [
    "model.compile(loss=\"mse\", optimizer=keras.optimizers.SGD(lr=1e-3))"
   ]
  },
  {
   "cell_type": "code",
   "execution_count": 48,
   "metadata": {},
   "outputs": [],
   "source": [
    "checkpoint_cb = keras.callbacks.ModelCheckpoint(\"Best_Model.h5\", save_best_only=True)"
   ]
  },
  {
   "cell_type": "code",
   "execution_count": 49,
   "metadata": {},
   "outputs": [
    {
     "name": "stdout",
     "output_type": "stream",
     "text": [
      "Epoch 1/10\n",
      "363/363 [==============================] - 1s 2ms/step - loss: 3.1712 - val_loss: 1.1138\n",
      "Epoch 2/10\n",
      "363/363 [==============================] - 1s 2ms/step - loss: 0.9722 - val_loss: 0.7490\n",
      "Epoch 3/10\n",
      "363/363 [==============================] - 1s 2ms/step - loss: 0.7425 - val_loss: 0.6852\n",
      "Epoch 4/10\n",
      "363/363 [==============================] - 1s 2ms/step - loss: 0.6657 - val_loss: 0.6502\n",
      "Epoch 5/10\n",
      "363/363 [==============================] - 1s 2ms/step - loss: 0.6375 - val_loss: 0.6219\n",
      "Epoch 6/10\n",
      "363/363 [==============================] - 1s 2ms/step - loss: 0.6378 - val_loss: 0.5973\n",
      "Epoch 7/10\n",
      "363/363 [==============================] - 1s 2ms/step - loss: 0.5818 - val_loss: 0.5776\n",
      "Epoch 8/10\n",
      "363/363 [==============================] - 1s 2ms/step - loss: 0.5456 - val_loss: 0.5616\n",
      "Epoch 9/10\n",
      "363/363 [==============================] - 1s 2ms/step - loss: 0.5298 - val_loss: 0.5444\n",
      "Epoch 10/10\n",
      "363/363 [==============================] - 1s 2ms/step - loss: 0.5191 - val_loss: 0.5339\n"
     ]
    }
   ],
   "source": [
    "history = model.fit(X_train, y_train, epochs=10,\n",
    "                    validation_data=(X_valid, y_valid),\n",
    "                    callbacks=[checkpoint_cb])"
   ]
  },
  {
   "cell_type": "code",
   "execution_count": 50,
   "metadata": {},
   "outputs": [
    {
     "name": "stdout",
     "output_type": "stream",
     "text": [
      "162/162 [==============================] - 0s 1ms/step - loss: 0.5259\n"
     ]
    }
   ],
   "source": [
    "model = keras.models.load_model(\"Best_Model.h5\") # rollback to best model\n",
    "mse_test = model.evaluate(X_test, y_test)"
   ]
  }
 ],
 "metadata": {
  "kernelspec": {
   "display_name": "Python 3",
   "language": "python",
   "name": "python3"
  },
  "language_info": {
   "codemirror_mode": {
    "name": "ipython",
    "version": 3
   },
   "file_extension": ".py",
   "mimetype": "text/x-python",
   "name": "python",
   "nbconvert_exporter": "python",
   "pygments_lexer": "ipython3",
   "version": "3.8.5"
  }
 },
 "nbformat": 4,
 "nbformat_minor": 4
}
