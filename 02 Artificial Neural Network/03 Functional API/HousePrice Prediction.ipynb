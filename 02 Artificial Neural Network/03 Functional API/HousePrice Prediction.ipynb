{
 "cells": [
  {
   "cell_type": "markdown",
   "metadata": {},
   "source": [
    "## HousePrice Prediction using ANN & Functional API"
   ]
  },
  {
   "cell_type": "markdown",
   "metadata": {},
   "source": [
    "#### Importing Libraries"
   ]
  },
  {
   "cell_type": "code",
   "execution_count": 2,
   "metadata": {},
   "outputs": [],
   "source": [
    "import numpy as np\n",
    "import pandas as pd"
   ]
  },
  {
   "cell_type": "code",
   "execution_count": 3,
   "metadata": {},
   "outputs": [],
   "source": [
    "import matplotlib as mpl\n",
    "import matplotlib.pyplot as plt\n",
    "\n",
    "%matplotlib inline"
   ]
  },
  {
   "cell_type": "code",
   "execution_count": 4,
   "metadata": {},
   "outputs": [],
   "source": [
    "import tensorflow as tf\n",
    "from tensorflow import keras"
   ]
  },
  {
   "cell_type": "markdown",
   "metadata": {},
   "source": [
    "#### Importing Dataset from Sci-kit Learn"
   ]
  },
  {
   "cell_type": "code",
   "execution_count": 5,
   "metadata": {},
   "outputs": [],
   "source": [
    "from sklearn.datasets import fetch_california_housing\n",
    "housing = fetch_california_housing()"
   ]
  },
  {
   "cell_type": "code",
   "execution_count": 6,
   "metadata": {},
   "outputs": [
    {
     "name": "stdout",
     "output_type": "stream",
     "text": [
      "['MedInc', 'HouseAge', 'AveRooms', 'AveBedrms', 'Population', 'AveOccup', 'Latitude', 'Longitude']\n"
     ]
    }
   ],
   "source": [
    "print(housing.feature_names)"
   ]
  },
  {
   "cell_type": "markdown",
   "metadata": {},
   "source": [
    "#### Train Test Split"
   ]
  },
  {
   "cell_type": "code",
   "execution_count": 7,
   "metadata": {},
   "outputs": [],
   "source": [
    "from sklearn.model_selection import train_test_split"
   ]
  },
  {
   "cell_type": "code",
   "execution_count": 8,
   "metadata": {},
   "outputs": [],
   "source": [
    "X_train_full, X_test, y_train_full, y_test = train_test_split(housing.data, housing.target, random_state=50)\n",
    "X_train, X_valid, y_train, y_valid = train_test_split(X_train_full, y_train_full, random_state=50)"
   ]
  },
  {
   "cell_type": "markdown",
   "metadata": {},
   "source": [
    "#### Data Standardization"
   ]
  },
  {
   "cell_type": "code",
   "execution_count": 9,
   "metadata": {},
   "outputs": [],
   "source": [
    "from sklearn.preprocessing import StandardScaler\n",
    "scaler = StandardScaler()"
   ]
  },
  {
   "cell_type": "code",
   "execution_count": 10,
   "metadata": {},
   "outputs": [],
   "source": [
    "X_train = scaler.fit_transform(X_train)\n",
    "X_valid = scaler.fit_transform(X_valid)\n",
    "X_test = scaler.fit_transform(X_test)"
   ]
  },
  {
   "cell_type": "code",
   "execution_count": 11,
   "metadata": {},
   "outputs": [],
   "source": [
    "np.random.seed(50)\n",
    "tf.random.set_seed(50)"
   ]
  },
  {
   "cell_type": "code",
   "execution_count": 12,
   "metadata": {},
   "outputs": [
    {
     "data": {
      "text/plain": [
       "(11610, 8)"
      ]
     },
     "execution_count": 12,
     "metadata": {},
     "output_type": "execute_result"
    }
   ],
   "source": [
    "X_train.shape"
   ]
  },
  {
   "cell_type": "code",
   "execution_count": 13,
   "metadata": {},
   "outputs": [
    {
     "data": {
      "text/plain": [
       "(5160, 8)"
      ]
     },
     "execution_count": 13,
     "metadata": {},
     "output_type": "execute_result"
    }
   ],
   "source": [
    "X_test.shape"
   ]
  },
  {
   "cell_type": "code",
   "execution_count": 14,
   "metadata": {},
   "outputs": [
    {
     "data": {
      "text/plain": [
       "(3870, 8)"
      ]
     },
     "execution_count": 14,
     "metadata": {},
     "output_type": "execute_result"
    }
   ],
   "source": [
    "X_valid.shape"
   ]
  },
  {
   "cell_type": "markdown",
   "metadata": {},
   "source": [
    "#### Creating Structure of Regression Functiol API ANN Model"
   ]
  },
  {
   "cell_type": "code",
   "execution_count": 17,
   "metadata": {},
   "outputs": [],
   "source": [
    "input_ = keras.layers.Input(shape=X_train.shape[1:])\n",
    "# calling input_ layer as function\n",
    "hidden1 = keras.layers.Dense(30, activation='relu')(input_)\n",
    "hidden2 = keras.layers.Dense(30, activation='relu')(hidden1)\n",
    "concat = keras.layers.concatenate([input_, hidden2])\n",
    "output = keras.layers.Dense(1)(concat)\n",
    "model = keras.models.Model(inputs=[input_], outputs=[output])"
   ]
  },
  {
   "cell_type": "code",
   "execution_count": 18,
   "metadata": {},
   "outputs": [
    {
     "name": "stdout",
     "output_type": "stream",
     "text": [
      "Model: \"model\"\n",
      "__________________________________________________________________________________________________\n",
      "Layer (type)                    Output Shape         Param #     Connected to                     \n",
      "==================================================================================================\n",
      "input_1 (InputLayer)            [(None, 8)]          0                                            \n",
      "__________________________________________________________________________________________________\n",
      "dense (Dense)                   (None, 30)           270         input_1[0][0]                    \n",
      "__________________________________________________________________________________________________\n",
      "dense_1 (Dense)                 (None, 30)           930         dense[0][0]                      \n",
      "__________________________________________________________________________________________________\n",
      "concatenate (Concatenate)       (None, 38)           0           input_1[0][0]                    \n",
      "                                                                 dense_1[0][0]                    \n",
      "__________________________________________________________________________________________________\n",
      "dense_2 (Dense)                 (None, 1)            39          concatenate[0][0]                \n",
      "==================================================================================================\n",
      "Total params: 1,239\n",
      "Trainable params: 1,239\n",
      "Non-trainable params: 0\n",
      "__________________________________________________________________________________________________\n"
     ]
    }
   ],
   "source": [
    "model.summary()"
   ]
  },
  {
   "cell_type": "markdown",
   "metadata": {},
   "source": [
    "#### Compiling the model"
   ]
  },
  {
   "cell_type": "code",
   "execution_count": 19,
   "metadata": {},
   "outputs": [],
   "source": [
    "model.compile(loss='mean_squared_error',\n",
    "             optimizer=keras.optimizers.SGD(lr=1e-3),\n",
    "             metrics=['mae'])"
   ]
  },
  {
   "cell_type": "code",
   "execution_count": 24,
   "metadata": {},
   "outputs": [
    {
     "name": "stdout",
     "output_type": "stream",
     "text": [
      "Epoch 1/40\n",
      "363/363 [==============================] - 1s 2ms/step - loss: 0.3663 - mae: 0.4350 - val_loss: 0.4476 - val_mae: 0.4757\n",
      "Epoch 2/40\n",
      "363/363 [==============================] - 1s 2ms/step - loss: 0.3653 - mae: 0.4340 - val_loss: 0.4482 - val_mae: 0.4763\n",
      "Epoch 3/40\n",
      "363/363 [==============================] - 1s 2ms/step - loss: 0.3643 - mae: 0.4340 - val_loss: 0.4513 - val_mae: 0.4755\n",
      "Epoch 4/40\n",
      "363/363 [==============================] - 1s 2ms/step - loss: 0.3632 - mae: 0.4327 - val_loss: 0.4499 - val_mae: 0.4755\n",
      "Epoch 5/40\n",
      "363/363 [==============================] - 1s 2ms/step - loss: 0.3624 - mae: 0.4323 - val_loss: 0.4469 - val_mae: 0.4748\n",
      "Epoch 6/40\n",
      "363/363 [==============================] - 1s 3ms/step - loss: 0.3616 - mae: 0.4317 - val_loss: 0.4467 - val_mae: 0.4744\n",
      "Epoch 7/40\n",
      "363/363 [==============================] - 1s 2ms/step - loss: 0.3606 - mae: 0.4313 - val_loss: 0.4468 - val_mae: 0.4731\n",
      "Epoch 8/40\n",
      "363/363 [==============================] - 1s 2ms/step - loss: 0.3598 - mae: 0.4301 - val_loss: 0.4482 - val_mae: 0.4743\n",
      "Epoch 9/40\n",
      "363/363 [==============================] - 1s 2ms/step - loss: 0.3592 - mae: 0.4299 - val_loss: 0.4463 - val_mae: 0.4738\n",
      "Epoch 10/40\n",
      "363/363 [==============================] - 1s 1ms/step - loss: 0.3581 - mae: 0.4298 - val_loss: 0.4471 - val_mae: 0.4713\n",
      "Epoch 11/40\n",
      "363/363 [==============================] - 1s 2ms/step - loss: 0.3574 - mae: 0.4284 - val_loss: 0.4460 - val_mae: 0.4725\n",
      "Epoch 12/40\n",
      "363/363 [==============================] - 1s 2ms/step - loss: 0.3568 - mae: 0.4282 - val_loss: 0.4478 - val_mae: 0.4714\n",
      "Epoch 13/40\n",
      "363/363 [==============================] - 1s 2ms/step - loss: 0.3560 - mae: 0.4274 - val_loss: 0.4442 - val_mae: 0.4727\n",
      "Epoch 14/40\n",
      "363/363 [==============================] - 1s 2ms/step - loss: 0.3554 - mae: 0.4274 - val_loss: 0.4436 - val_mae: 0.4717\n",
      "Epoch 15/40\n",
      "363/363 [==============================] - 1s 2ms/step - loss: 0.3546 - mae: 0.4268 - val_loss: 0.4472 - val_mae: 0.4733\n",
      "Epoch 16/40\n",
      "363/363 [==============================] - 1s 2ms/step - loss: 0.3541 - mae: 0.4266 - val_loss: 0.4465 - val_mae: 0.4704\n",
      "Epoch 17/40\n",
      "363/363 [==============================] - 1s 2ms/step - loss: 0.3534 - mae: 0.4261 - val_loss: 0.4447 - val_mae: 0.4690\n",
      "Epoch 18/40\n",
      "363/363 [==============================] - 1s 2ms/step - loss: 0.3527 - mae: 0.4249 - val_loss: 0.4416 - val_mae: 0.4710\n",
      "Epoch 19/40\n",
      "363/363 [==============================] - 1s 2ms/step - loss: 0.3520 - mae: 0.4256 - val_loss: 0.4425 - val_mae: 0.4693\n",
      "Epoch 20/40\n",
      "363/363 [==============================] - 1s 2ms/step - loss: 0.3515 - mae: 0.4248 - val_loss: 0.4415 - val_mae: 0.4688\n",
      "Epoch 21/40\n",
      "363/363 [==============================] - 1s 2ms/step - loss: 0.3510 - mae: 0.4243 - val_loss: 0.4444 - val_mae: 0.4693\n",
      "Epoch 22/40\n",
      "363/363 [==============================] - 1s 2ms/step - loss: 0.3502 - mae: 0.4236 - val_loss: 0.4423 - val_mae: 0.4691\n",
      "Epoch 23/40\n",
      "363/363 [==============================] - 1s 2ms/step - loss: 0.3498 - mae: 0.4237 - val_loss: 0.4419 - val_mae: 0.4693\n",
      "Epoch 24/40\n",
      "363/363 [==============================] - 1s 2ms/step - loss: 0.3492 - mae: 0.4233 - val_loss: 0.4419 - val_mae: 0.4695\n",
      "Epoch 25/40\n",
      "363/363 [==============================] - 1s 2ms/step - loss: 0.3486 - mae: 0.4227 - val_loss: 0.4426 - val_mae: 0.4690\n",
      "Epoch 26/40\n",
      "363/363 [==============================] - 1s 2ms/step - loss: 0.3481 - mae: 0.4226 - val_loss: 0.4395 - val_mae: 0.4678\n",
      "Epoch 27/40\n",
      "363/363 [==============================] - 1s 2ms/step - loss: 0.3475 - mae: 0.4223 - val_loss: 0.4430 - val_mae: 0.4667\n",
      "Epoch 28/40\n",
      "363/363 [==============================] - 1s 2ms/step - loss: 0.3469 - mae: 0.4212 - val_loss: 0.4387 - val_mae: 0.4682\n",
      "Epoch 29/40\n",
      "363/363 [==============================] - 1s 2ms/step - loss: 0.3464 - mae: 0.4214 - val_loss: 0.4396 - val_mae: 0.4684\n",
      "Epoch 30/40\n",
      "363/363 [==============================] - 1s 2ms/step - loss: 0.3461 - mae: 0.4214 - val_loss: 0.4404 - val_mae: 0.4677\n",
      "Epoch 31/40\n",
      "363/363 [==============================] - 1s 2ms/step - loss: 0.3455 - mae: 0.4205 - val_loss: 0.4400 - val_mae: 0.4681\n",
      "Epoch 32/40\n",
      "363/363 [==============================] - 1s 2ms/step - loss: 0.3449 - mae: 0.4202 - val_loss: 0.4391 - val_mae: 0.4670\n",
      "Epoch 33/40\n",
      "363/363 [==============================] - 1s 2ms/step - loss: 0.3447 - mae: 0.4203 - val_loss: 0.4392 - val_mae: 0.4664\n",
      "Epoch 34/40\n",
      "363/363 [==============================] - 1s 2ms/step - loss: 0.3440 - mae: 0.4198 - val_loss: 0.4405 - val_mae: 0.4651\n",
      "Epoch 35/40\n",
      "363/363 [==============================] - 1s 2ms/step - loss: 0.3435 - mae: 0.4194 - val_loss: 0.4413 - val_mae: 0.4650\n",
      "Epoch 36/40\n",
      "363/363 [==============================] - 1s 2ms/step - loss: 0.3429 - mae: 0.4191 - val_loss: 0.4442 - val_mae: 0.4651\n",
      "Epoch 37/40\n",
      "363/363 [==============================] - 1s 2ms/step - loss: 0.3427 - mae: 0.4184 - val_loss: 0.4364 - val_mae: 0.4655\n",
      "Epoch 38/40\n",
      "363/363 [==============================] - 1s 2ms/step - loss: 0.3421 - mae: 0.4186 - val_loss: 0.4423 - val_mae: 0.4659\n",
      "Epoch 39/40\n",
      "363/363 [==============================] - 1s 2ms/step - loss: 0.3416 - mae: 0.4178 - val_loss: 0.4364 - val_mae: 0.4650\n",
      "Epoch 40/40\n",
      "363/363 [==============================] - 1s 2ms/step - loss: 0.3412 - mae: 0.4177 - val_loss: 0.4430 - val_mae: 0.4659\n"
     ]
    }
   ],
   "source": [
    "model_history = model.fit(X_train, y_train, epochs=40, validation_data=(X_valid, y_valid))"
   ]
  },
  {
   "cell_type": "code",
   "execution_count": 25,
   "metadata": {},
   "outputs": [
    {
     "name": "stdout",
     "output_type": "stream",
     "text": [
      "162/162 [==============================] - 0s 1ms/step - loss: 0.4099 - mae: 0.4470\n"
     ]
    }
   ],
   "source": [
    "mae_test = model.evaluate(X_test, y_test)"
   ]
  },
  {
   "cell_type": "code",
   "execution_count": 26,
   "metadata": {},
   "outputs": [
    {
     "data": {
      "text/plain": [
       "{'loss': [0.36627867817878723,\n",
       "  0.36533504724502563,\n",
       "  0.36432817578315735,\n",
       "  0.3632182478904724,\n",
       "  0.3624318242073059,\n",
       "  0.3616161346435547,\n",
       "  0.3606012463569641,\n",
       "  0.3597858250141144,\n",
       "  0.35920804738998413,\n",
       "  0.35812604427337646,\n",
       "  0.357364296913147,\n",
       "  0.35675734281539917,\n",
       "  0.3559970259666443,\n",
       "  0.35543134808540344,\n",
       "  0.3545786440372467,\n",
       "  0.3540550172328949,\n",
       "  0.3533974885940552,\n",
       "  0.35268646478652954,\n",
       "  0.3519928753376007,\n",
       "  0.35148435831069946,\n",
       "  0.3509775996208191,\n",
       "  0.3501734733581543,\n",
       "  0.3497714698314667,\n",
       "  0.34915074706077576,\n",
       "  0.34856855869293213,\n",
       "  0.34814250469207764,\n",
       "  0.3475051522254944,\n",
       "  0.34689751267433167,\n",
       "  0.34643566608428955,\n",
       "  0.3461015224456787,\n",
       "  0.34547391533851624,\n",
       "  0.34489911794662476,\n",
       "  0.3446512520313263,\n",
       "  0.34403982758522034,\n",
       "  0.34347859025001526,\n",
       "  0.3428935706615448,\n",
       "  0.3426677882671356,\n",
       "  0.34205058217048645,\n",
       "  0.3415953516960144,\n",
       "  0.3411848843097687],\n",
       " 'mae': [0.43502628803253174,\n",
       "  0.43399131298065186,\n",
       "  0.43403610587120056,\n",
       "  0.43270495533943176,\n",
       "  0.4323497414588928,\n",
       "  0.4317472279071808,\n",
       "  0.431308388710022,\n",
       "  0.43014875054359436,\n",
       "  0.42993760108947754,\n",
       "  0.42981454730033875,\n",
       "  0.42840051651000977,\n",
       "  0.42819085717201233,\n",
       "  0.4273656904697418,\n",
       "  0.4274199903011322,\n",
       "  0.4268283545970917,\n",
       "  0.4266258776187897,\n",
       "  0.42607322335243225,\n",
       "  0.4248911142349243,\n",
       "  0.4255829155445099,\n",
       "  0.4247598648071289,\n",
       "  0.4243471920490265,\n",
       "  0.42356258630752563,\n",
       "  0.42374905943870544,\n",
       "  0.4232500195503235,\n",
       "  0.4226568043231964,\n",
       "  0.42264997959136963,\n",
       "  0.4222826063632965,\n",
       "  0.42119309306144714,\n",
       "  0.42139682173728943,\n",
       "  0.4214223027229309,\n",
       "  0.42050254344940186,\n",
       "  0.42022913694381714,\n",
       "  0.42027732729911804,\n",
       "  0.4198378324508667,\n",
       "  0.419437050819397,\n",
       "  0.41906100511550903,\n",
       "  0.4183822572231293,\n",
       "  0.41861048340797424,\n",
       "  0.417822927236557,\n",
       "  0.4176798462867737],\n",
       " 'val_loss': [0.447557657957077,\n",
       "  0.4482293426990509,\n",
       "  0.45125752687454224,\n",
       "  0.4499097168445587,\n",
       "  0.4469490945339203,\n",
       "  0.44670769572257996,\n",
       "  0.4467568099498749,\n",
       "  0.44824910163879395,\n",
       "  0.44632548093795776,\n",
       "  0.44706204533576965,\n",
       "  0.44604235887527466,\n",
       "  0.44780805706977844,\n",
       "  0.44423800706863403,\n",
       "  0.4435662031173706,\n",
       "  0.44720837473869324,\n",
       "  0.44649213552474976,\n",
       "  0.44470131397247314,\n",
       "  0.4415849447250366,\n",
       "  0.4425431489944458,\n",
       "  0.4415484070777893,\n",
       "  0.4444028437137604,\n",
       "  0.44231995940208435,\n",
       "  0.44191646575927734,\n",
       "  0.4418790340423584,\n",
       "  0.4425573945045471,\n",
       "  0.43948715925216675,\n",
       "  0.44297951459884644,\n",
       "  0.4386806786060333,\n",
       "  0.4396006464958191,\n",
       "  0.44041717052459717,\n",
       "  0.4400159418582916,\n",
       "  0.4390581250190735,\n",
       "  0.4392125606536865,\n",
       "  0.440477192401886,\n",
       "  0.4412706196308136,\n",
       "  0.4442107081413269,\n",
       "  0.4364221394062042,\n",
       "  0.4423304498195648,\n",
       "  0.43642657995224,\n",
       "  0.44298169016838074],\n",
       " 'val_mae': [0.4756838381290436,\n",
       "  0.47633451223373413,\n",
       "  0.4755498170852661,\n",
       "  0.475490540266037,\n",
       "  0.47476276755332947,\n",
       "  0.474365234375,\n",
       "  0.4731284976005554,\n",
       "  0.47425779700279236,\n",
       "  0.473813533782959,\n",
       "  0.4712553918361664,\n",
       "  0.4724651277065277,\n",
       "  0.47138339281082153,\n",
       "  0.4726623594760895,\n",
       "  0.4716872274875641,\n",
       "  0.4733444154262543,\n",
       "  0.47038474678993225,\n",
       "  0.4690400958061218,\n",
       "  0.4710087180137634,\n",
       "  0.4693047106266022,\n",
       "  0.4687635898590088,\n",
       "  0.46934202313423157,\n",
       "  0.4690902829170227,\n",
       "  0.46934282779693604,\n",
       "  0.4695001542568207,\n",
       "  0.46898502111434937,\n",
       "  0.46777769923210144,\n",
       "  0.4667122960090637,\n",
       "  0.46819671988487244,\n",
       "  0.46841326355934143,\n",
       "  0.4676882028579712,\n",
       "  0.46808695793151855,\n",
       "  0.4670465588569641,\n",
       "  0.46637195348739624,\n",
       "  0.465078741312027,\n",
       "  0.4650275707244873,\n",
       "  0.46510574221611023,\n",
       "  0.4654746651649475,\n",
       "  0.4659225046634674,\n",
       "  0.46497321128845215,\n",
       "  0.4658646881580353]}"
      ]
     },
     "execution_count": 26,
     "metadata": {},
     "output_type": "execute_result"
    }
   ],
   "source": [
    "model_history.history"
   ]
  },
  {
   "cell_type": "code",
   "execution_count": 27,
   "metadata": {},
   "outputs": [
    {
     "data": {
      "image/png": "[encoded data removed]",
      "text/plain": [
       "<Figure size 720x504 with 1 Axes>"
      ]
     },
     "metadata": {
      "needs_background": "light"
     },
     "output_type": "display_data"
    }
   ],
   "source": [
    "pd.DataFrame(model_history.history).plot(figsize = (10, 7))\n",
    "plt.grid(True)\n",
    "plt.gca().set_ylim(0, 1)\n",
    "plt.show()"
   ]
  },
  {
   "cell_type": "markdown",
   "metadata": {},
   "source": [
    "### Saving and Restoring Model"
   ]
  },
  {
   "cell_type": "code",
   "execution_count": 28,
   "metadata": {},
   "outputs": [],
   "source": [
    "model.save('my_model.h5')"
   ]
  },
  {
   "cell_type": "code",
   "execution_count": 30,
   "metadata": {},
   "outputs": [],
   "source": [
    "del model"
   ]
  },
  {
   "cell_type": "code",
   "execution_count": 31,
   "metadata": {},
   "outputs": [],
   "source": [
    "keras.backend.clear_session()"
   ]
  },
  {
   "cell_type": "code",
   "execution_count": 32,
   "metadata": {},
   "outputs": [],
   "source": [
    "model = keras.models.load_model('my_model.h5')"
   ]
  },
  {
   "cell_type": "code",
   "execution_count": 33,
   "metadata": {},
   "outputs": [
    {
     "name": "stdout",
     "output_type": "stream",
     "text": [
      "Model: \"model\"\n",
      "__________________________________________________________________________________________________\n",
      "Layer (type)                    Output Shape         Param #     Connected to                     \n",
      "==================================================================================================\n",
      "input_1 (InputLayer)            [(None, 8)]          0                                            \n",
      "__________________________________________________________________________________________________\n",
      "dense (Dense)                   (None, 30)           270         input_1[0][0]                    \n",
      "__________________________________________________________________________________________________\n",
      "dense_1 (Dense)                 (None, 30)           930         dense[0][0]                      \n",
      "__________________________________________________________________________________________________\n",
      "concatenate (Concatenate)       (None, 38)           0           input_1[0][0]                    \n",
      "                                                                 dense_1[0][0]                    \n",
      "__________________________________________________________________________________________________\n",
      "dense_2 (Dense)                 (None, 1)            39          concatenate[0][0]                \n",
      "==================================================================================================\n",
      "Total params: 1,239\n",
      "Trainable params: 1,239\n",
      "Non-trainable params: 0\n",
      "__________________________________________________________________________________________________\n"
     ]
    }
   ],
   "source": [
    "model.summary()"
   ]
  },
  {
   "cell_type": "code",
   "execution_count": 34,
   "metadata": {},
   "outputs": [
    {
     "name": "stdout",
     "output_type": "stream",
     "text": [
      "[[1.7974662]\n",
      " [2.885044 ]\n",
      " [1.8358095]\n",
      " ...\n",
      " [1.6791342]\n",
      " [1.3873621]\n",
      " [2.1493006]]\n"
     ]
    }
   ],
   "source": [
    "y_pred = model.predict(X_test)\n",
    "print(y_pred)"
   ]
  },
  {
   "cell_type": "markdown",
   "metadata": {},
   "source": [
    "### Using Callbacks during Model Training\n",
    "\n",
    "- callbacks are checkpoints, they allow us to save model after each and every epoch."
   ]
  },
  {
   "cell_type": "code",
   "execution_count": 35,
   "metadata": {},
   "outputs": [],
   "source": [
    "del model"
   ]
  },
  {
   "cell_type": "code",
   "execution_count": 36,
   "metadata": {},
   "outputs": [],
   "source": [
    "keras.backend.clear_session()"
   ]
  },
  {
   "cell_type": "code",
   "execution_count": 37,
   "metadata": {},
   "outputs": [],
   "source": [
    "np.random.seed(55)\n",
    "tf.random.set_seed(50)"
   ]
  },
  {
   "cell_type": "code",
   "execution_count": 38,
   "metadata": {},
   "outputs": [],
   "source": [
    "model = keras.models.Sequential([\n",
    "    keras.layers.Dense(30, activation='relu', input_shape=[8]),\n",
    "    keras.layers.Dense(30, activation='relu'),\n",
    "    keras.layers.Dense(30, activation='relu'),\n",
    "    keras.layers.Dense(1)\n",
    "])"
   ]
  },
  {
   "cell_type": "code",
   "execution_count": 39,
   "metadata": {},
   "outputs": [],
   "source": [
    "model.compile(loss='mse', optimizer=keras.optimizers.SGD(lr=1e-3))"
   ]
  },
  {
   "cell_type": "code",
   "execution_count": 40,
   "metadata": {},
   "outputs": [],
   "source": [
    "checkpoints = keras.callbacks.ModelCheckpoint('model_{epoch:02d}.h5')"
   ]
  },
  {
   "cell_type": "code",
   "execution_count": 41,
   "metadata": {},
   "outputs": [
    {
     "name": "stdout",
     "output_type": "stream",
     "text": [
      "Epoch 1/20\n",
      "363/363 [==============================] - 2s 3ms/step - loss: 2.7652 - val_loss: 0.9306\n",
      "Epoch 2/20\n",
      "363/363 [==============================] - 1s 3ms/step - loss: 0.8263 - val_loss: 0.7019\n",
      "Epoch 3/20\n",
      "363/363 [==============================] - 1s 2ms/step - loss: 0.6519 - val_loss: 0.6367\n",
      "Epoch 4/20\n",
      "363/363 [==============================] - 1s 2ms/step - loss: 0.5732 - val_loss: 0.5984\n",
      "Epoch 5/20\n",
      "363/363 [==============================] - 1s 2ms/step - loss: 0.5458 - val_loss: 0.5694\n",
      "Epoch 6/20\n",
      "363/363 [==============================] - 1s 2ms/step - loss: 0.5320 - val_loss: 0.5474\n",
      "Epoch 7/20\n",
      "363/363 [==============================] - 1s 2ms/step - loss: 0.4909 - val_loss: 0.5293\n",
      "Epoch 8/20\n",
      "363/363 [==============================] - 1s 2ms/step - loss: 0.4555 - val_loss: 0.5160\n",
      "Epoch 9/20\n",
      "363/363 [==============================] - 1s 2ms/step - loss: 0.4479 - val_loss: 0.5041\n",
      "Epoch 10/20\n",
      "363/363 [==============================] - 1s 2ms/step - loss: 0.4458 - val_loss: 0.4944\n",
      "Epoch 11/20\n",
      "363/363 [==============================] - 1s 2ms/step - loss: 0.4502 - val_loss: 0.4874\n",
      "Epoch 12/20\n",
      "363/363 [==============================] - 1s 2ms/step - loss: 0.4306 - val_loss: 0.4824\n",
      "Epoch 13/20\n",
      "363/363 [==============================] - 1s 3ms/step - loss: 0.4140 - val_loss: 0.4752\n",
      "Epoch 14/20\n",
      "363/363 [==============================] - 1s 2ms/step - loss: 0.4072 - val_loss: 0.4714\n",
      "Epoch 15/20\n",
      "363/363 [==============================] - 1s 2ms/step - loss: 0.3950 - val_loss: 0.4681\n",
      "Epoch 16/20\n",
      "363/363 [==============================] - 1s 3ms/step - loss: 0.4073 - val_loss: 0.4649\n",
      "Epoch 17/20\n",
      "363/363 [==============================] - 1s 3ms/step - loss: 0.3889 - val_loss: 0.4614\n",
      "Epoch 18/20\n",
      "363/363 [==============================] - 1s 3ms/step - loss: 0.3928 - val_loss: 0.4573\n",
      "Epoch 19/20\n",
      "363/363 [==============================] - 1s 2ms/step - loss: 0.3876 - val_loss: 0.4560\n",
      "Epoch 20/20\n",
      "363/363 [==============================] - 1s 2ms/step - loss: 0.3848 - val_loss: 0.4533\n"
     ]
    }
   ],
   "source": [
    "hostory = model.fit(X_train, y_train, epochs=20,\n",
    "                   validation_data=(X_valid, y_valid),\n",
    "                   callbacks=[checkpoints])"
   ]
  },
  {
   "cell_type": "code",
   "execution_count": 48,
   "metadata": {},
   "outputs": [],
   "source": [
    "del model"
   ]
  },
  {
   "cell_type": "code",
   "execution_count": 49,
   "metadata": {},
   "outputs": [],
   "source": [
    "keras.backend.clear_session()"
   ]
  },
  {
   "cell_type": "code",
   "execution_count": 50,
   "metadata": {},
   "outputs": [],
   "source": [
    "model = keras.models.load_model('model_13.h5')"
   ]
  },
  {
   "cell_type": "code",
   "execution_count": 51,
   "metadata": {},
   "outputs": [
    {
     "name": "stdout",
     "output_type": "stream",
     "text": [
      "162/162 [==============================] - 0s 1ms/step - loss: 0.4527\n"
     ]
    }
   ],
   "source": [
    "mse_test = model.evaluate(X_test, y_test)"
   ]
  }
 ],
 "metadata": {
  "kernelspec": {
   "display_name": "Python 3",
   "language": "python",
   "name": "python3"
  },
  "language_info": {
   "codemirror_mode": {
    "name": "ipython",
    "version": 3
   },
   "file_extension": ".py",
   "mimetype": "text/x-python",
   "name": "python",
   "nbconvert_exporter": "python",
   "pygments_lexer": "ipython3",
   "version": "3.8.5"
  }
 },
 "nbformat": 4,
 "nbformat_minor": 4
}
